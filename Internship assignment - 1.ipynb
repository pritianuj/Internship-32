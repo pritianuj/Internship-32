{
 "cells": [
  {
   "cell_type": "code",
   "execution_count": 1,
   "id": "3b6d983b",
   "metadata": {},
   "outputs": [
    {
     "name": "stdout",
     "output_type": "stream",
     "text": [
      "<h1 class=\"firstHeading mw-first-heading\" id=\"firstHeading\" style=\"display: none\"><span class=\"mw-page-title-main\">Main Page</span></h1>\n",
      "<h1><span class=\"mw-headline\" id=\"Welcome_to_Wikipedia\">Welcome to <a href=\"/wiki/Wikipedia\" title=\"Wikipedia\">Wikipedia</a></span></h1>\n",
      "<h2 class=\"mp-h2\" id=\"mp-tfa-h2\"><span id=\"From_today.27s_featured_article\"></span><span class=\"mw-headline\" id=\"From_today's_featured_article\">From today's featured article</span></h2>\n",
      "<h2 class=\"mp-h2\" id=\"mp-dyk-h2\"><span class=\"mw-headline\" id=\"Did_you_know_...\">Did you know ...</span></h2>\n",
      "<h2 class=\"mp-h2\" id=\"mp-itn-h2\"><span class=\"mw-headline\" id=\"In_the_news\">In the news</span></h2>\n",
      "<h2 class=\"mp-h2\" id=\"mp-otd-h2\"><span class=\"mw-headline\" id=\"On_this_day\">On this day</span></h2>\n",
      "<h2 class=\"mp-h2\" id=\"mp-tfl-h2\"><span id=\"From_today.27s_featured_list\"></span><span class=\"mw-headline\" id=\"From_today's_featured_list\">From today's featured list</span></h2>\n",
      "<h2 class=\"mp-h2\" id=\"mp-tfp-h2\"><span id=\"Today.27s_featured_picture\"></span><span class=\"mw-headline\" id=\"Today's_featured_picture\">Today's featured picture</span></h2>\n",
      "<h2 class=\"mp-h2\" id=\"mp-other\"><span class=\"mw-headline\" id=\"Other_areas_of_Wikipedia\">Other areas of Wikipedia</span></h2>\n",
      "<h2 class=\"mp-h2\" id=\"mp-sister\"><span id=\"Wikipedia.27s_sister_projects\"></span><span class=\"mw-headline\" id=\"Wikipedia's_sister_projects\">Wikipedia's sister projects</span></h2>\n",
      "<h2 class=\"mp-h2\" id=\"mp-lang\"><span class=\"mw-headline\" id=\"Wikipedia_languages\">Wikipedia languages</span></h2>\n",
      "<h2>Navigation menu</h2>\n",
      "<h3 class=\"vector-menu-heading\" id=\"p-personal-label\">\n",
      "<span class=\"vector-menu-heading-label\">Personal tools</span>\n",
      "</h3>\n",
      "<h3 class=\"vector-menu-heading\" id=\"p-namespaces-label\">\n",
      "<span class=\"vector-menu-heading-label\">Namespaces</span>\n",
      "</h3>\n",
      "<h3 class=\"vector-menu-heading\" id=\"p-views-label\">\n",
      "<span class=\"vector-menu-heading-label\">Views</span>\n",
      "</h3>\n",
      "<h3>\n",
      "<label for=\"searchInput\">Search</label>\n",
      "</h3>\n",
      "<h3 class=\"vector-menu-heading\" id=\"p-navigation-label\">\n",
      "<span class=\"vector-menu-heading-label\">Navigation</span>\n",
      "</h3>\n",
      "<h3 class=\"vector-menu-heading\" id=\"p-interaction-label\">\n",
      "<span class=\"vector-menu-heading-label\">Contribute</span>\n",
      "</h3>\n",
      "<h3 class=\"vector-menu-heading\" id=\"p-tb-label\">\n",
      "<span class=\"vector-menu-heading-label\">Tools</span>\n",
      "</h3>\n",
      "<h3 class=\"vector-menu-heading\" id=\"p-coll-print_export-label\">\n",
      "<span class=\"vector-menu-heading-label\">Print/export</span>\n",
      "</h3>\n",
      "<h3 class=\"vector-menu-heading\" id=\"p-wikibase-otherprojects-label\">\n",
      "<span class=\"vector-menu-heading-label\">In other projects</span>\n",
      "</h3>\n",
      "<h3 class=\"vector-menu-heading\" id=\"p-lang-label\">\n",
      "<span class=\"vector-menu-heading-label\">Languages</span>\n",
      "</h3>\n"
     ]
    }
   ],
   "source": [
    "#Problem-1\n",
    "import  requests\n",
    "from  bs4 import BeautifulSoup\n",
    "\n",
    "url = requests.get('https://en.wikipedia.org/wiki/Main_Page')\n",
    "soup = BeautifulSoup(url.text, 'html.parser')\n",
    "Heading = soup.find_all(['h1', 'h2','h3'])\n",
    "for i in Heading:\n",
    "    print(i)"
   ]
  },
  {
   "cell_type": "code",
   "execution_count": 35,
   "id": "c55498d4",
   "metadata": {},
   "outputs": [
    {
     "name": "stdout",
     "output_type": "stream",
     "text": [
      "The Shawshank Redemption (1994 9.234832429526517\n",
      "The Godfather (1972 9.156494127684832\n",
      "The Dark Knight (2008 8.988109005241478\n",
      "The Godfather Part II (1974 8.984427286299779\n",
      "12 Angry Men (1957 8.949832174754173\n",
      "Schindler's List (1993 8.93688414277837\n",
      "The Lord of the Rings: The Return of the King (2003 8.92555028696235\n",
      "Pulp Fiction (1994 8.849182003723039\n",
      "The Lord of the Rings: The Fellowship of the Ring (2001 8.80633942589314\n",
      " Il buono, il brutto, il cattivo (1966 8.792060116668967\n",
      "Forrest Gump (1994 8.767869568934598\n",
      "Fight Club (1999 8.748963623685682\n",
      "Inception (2010 8.733258569158059\n",
      "The Lord of the Rings: The Two Towers (2002 8.73128296834671\n",
      "The Empire Strikes Back (1980 8.700750559654379\n",
      "The Matrix (1999 8.670159553480824\n",
      "Goodfellas (1990 8.652306170025259\n",
      "One Flew Over the Cuckoo's Nest (1975 8.640020249846337\n",
      "Se7en (1995 8.60428975345773\n",
      "Shichinin no samurai (1954 8.599121923358316\n",
      "It's a Wonderful Life (1946 8.59645704234846\n",
      "The Silence of the Lambs (1991 8.588216499184078\n",
      "Cidade de Deus (2002 8.579290084047411\n",
      "Saving Private Ryan (1998 8.578733122599102\n",
      "La vita è bella (1997 8.56675258889476\n",
      "The Green Mile (1999 8.561353589935342\n",
      "Interstellar (2014 8.561109262027784\n",
      "Star Wars (1977 8.552182468009178\n",
      "Terminator 2: Judgment Day (1991 8.53627969260182\n",
      "Back to the Future (1985 8.517851255958625\n",
      "Sen to Chihiro no kamikakushi (2001 8.515521053045774\n",
      "Psycho (1960 8.508047293393888\n",
      "The Pianist (2002 8.505706078015976\n",
      "Léon (1994 8.497866381928295\n",
      "Gisaengchung (2019 8.496966368498045\n",
      "The Lion King (1994 8.48845671823394\n",
      "Gladiator (2000 8.486340269550652\n",
      "American History X (1998 8.483490955719443\n",
      "The Departed (2006 8.475595094590108\n",
      "The Usual Suspects (1995 8.474131474211486\n",
      "The Prestige (2006 8.468555102195658\n",
      "Casablanca (1942 8.464037957316462\n",
      "Whiplash (2014 8.46307140834486\n",
      "The Intouchables (2011 8.45376597292795\n",
      "Hotaru no haka (1988 8.451243024365269\n",
      "Seppuku (1962 8.450717179574413\n",
      "Modern Times (1936 8.448593563053016\n",
      "Once Upon a Time in the West (1968 8.445851489326998\n",
      "Rear Window (1954 8.43711890570659\n",
      "Alien (1979 8.434499292224837\n",
      "City Lights (1931 8.434134838609218\n",
      "Nuovo Cinema Paradiso (1988 8.431343463051402\n",
      "Apocalypse Now (1979 8.424516559331975\n",
      "Memento (2000 8.423761814771398\n",
      "Raiders of the Lost Ark (1981 8.410118261714056\n",
      "Django Unchained (2012 8.404885346823102\n",
      "WALL·E (2008 8.393677838273328\n",
      "The Lives of Others (2006 8.38552313865741\n",
      "Sunset Blvd (1950 8.382833900630725\n",
      "Paths of Glory (1957 8.371745860188453\n",
      "The Shining (1980 8.366751433244918\n",
      "The Great Dictator (1940 8.365849968928256\n",
      "Witness for the Prosecution (1957 8.359459724732801\n",
      "Avengers: Infinity War (2018 8.359390187657008\n",
      "Aliens (1986 8.343823857350834\n",
      "American Beauty (1999 8.335255610329183\n",
      "Top Gun: Maverick (2022 8.334718691318145\n",
      "Spider-Man: Into the Spider-Verse (2018 8.332168697983182\n",
      "Dr Strangelove or: How I Learned to Stop Worrying and Love the Bomb (1964 8.331673666975325\n",
      "The Dark Knight Rises (2012 8.328047407632567\n",
      "Oldeuboi (2003 8.320088392073727\n",
      "Joker (2019 8.317211593297179\n",
      "Amadeus (1984 8.315746694016019\n",
      "Braveheart (1995 8.315000293917564\n",
      "Toy Story (1995 8.314811111069512\n",
      "Coco (2017 8.313491217717763\n",
      "Inglourious Basterds (2009 8.31347463859998\n",
      "Das Boot (1981 8.312304491994839\n",
      "Avengers: Endgame (2019 8.303853803746629\n",
      "Mononoke-hime (1997 8.303473020837771\n",
      "Once Upon a Time in America (1984 8.297792333219748\n",
      "Good Will Hunting (1997 8.288480700189195\n",
      "Kimi no na wa (2016 8.27818983807837\n",
      "Requiem for a Dream (2000 8.275535062715837\n",
      "Toy Story 3 (2010 8.275058425267503\n",
      "Singin' in the Rain (1952 8.273428956470072\n",
      "3 Idiots (2009 8.272309395399754\n",
      "Tengoku to jigoku (1963 8.267112843045707\n",
      "Star Wars: Episode VI - Return of the Jedi (1983 8.266580803251607\n",
      "2001: A Space Odyssey (1968 8.263608182777617\n",
      "Eternal Sunshine of the Spotless Mind (2004 8.263139283611505\n",
      "Reservoir Dogs (1992 8.262618045460558\n",
      "Capharnaüm (2018 8.260498802911941\n",
      "Jagten (2012 8.255795299330002\n",
      "Lawrence of Arabia (1962 8.255159548578987\n",
      "Citizen Kane (1941 8.254990457695305\n",
      "M - Eine Stadt sucht einen Mörder (1931 8.2541033233345\n",
      "North by Northwest (1959 8.251252398901062\n",
      "Idi i smotri (1985 8.248858883422592\n",
      " Vertigo (1958 8.246159878666093\n",
      "Le fabuleux destin d'Amélie Poulain (2001 8.244209915735704\n",
      "A Clockwork Orange (1971 8.242545981888446\n",
      "Double Indemnity (1944 8.23928526494547\n",
      "The Apartment (1960 8.238986906424383\n",
      "Full Metal Jacket (1987 8.23892875559706\n",
      "Ikiru (1952 8.236032704804543\n",
      "Scarface (1983 8.23534295162361\n",
      "To Kill a Mockingbird (1962 8.228154424029611\n",
      "The Sting (1973 8.228104347297112\n",
      "Hamilton (2020 8.22543400775154\n",
      "Taxi Driver (1976 8.22478460073895\n",
      "Heat (1995 8.224707841962335\n",
      "Up (2009 8.224671347182085\n",
      "Incendies (2010 8.222378361586065\n",
      "LA Confidential (1997 8.222279435452588\n",
      "Jodaeiye Nader az Simin (2011 8.221507343377823\n",
      "Metropolis (1927 8.22083780597747\n",
      "Die Hard (1988 8.21936289970746\n",
      "Snatch (2000 8.219234789450509\n",
      "Ladri di biciclette (1948 8.218067857877973\n",
      "Indiana Jones and the Last Crusade (1989 8.217744277087315\n",
      "1917 (2019 8.211691677419623\n",
      "Taare Zameen Par (2007 8.210396138613724\n",
      "Der Untergang (2004 8.204211286197665\n",
      "Per qualche dollaro in più (1965 8.201941074661677\n",
      "Batman Begins (2005 8.200768990946822\n",
      "Dangal (2016 8.200083025399671\n",
      "The Kid (1921 8.193779898082509\n",
      "Some Like It Hot (1959 8.19199648071255\n",
      "All About Eve (1950 8.181370681322624\n",
      "The Father (2020 8.18063317750604\n",
      "Green Book (2018 8.175602391090365\n",
      "The Wolf of Wall Street (2013 8.173939687936778\n",
      "Judgment at Nuremberg (1961 8.170512874332957\n",
      "Ran (1985 8.165669642749052\n",
      "Casino (1995 8.163980158959182\n",
      "Spider-Man: No Way Home (2021 8.163610133648548\n",
      "Unforgiven (1992 8.162709665012562\n",
      "Pan's Labyrinth (2006 8.162317241983635\n",
      "There Will Be Blood (2007 8.157208696997898\n",
      "The Truman Show (1998 8.15491027731924\n",
      "The Sixth Sense (1999 8.153788248614932\n",
      "A Beautiful Mind (2001 8.152380948721978\n",
      "Monty Python and the Holy Grail (1975 8.149891002950168\n",
      "Yôjinbô (1961 8.149618309837859\n",
      "The Treasure of the Sierra Madre (1948 8.148522534369626\n",
      "Shutter Island (2010 8.146714338243832\n",
      "Jurassic Park (1993 8.145570276942301\n",
      "Rashômon (1950 8.14235089981728\n",
      "The Great Escape (1963 8.142228032296282\n",
      "Kill Bill: Vol 1 (2003 8.13789087856619\n",
      "No Country for Old Men (2007 8.137057471016156\n",
      "Finding Nemo (2003 8.131694212578152\n",
      "The Elephant Man (1980 8.129828645988018\n",
      "Chinatown (1974 8.129159954814932\n",
      "Raging Bull (1980 8.127968878760882\n",
      "The Thing (1982 8.127480489074033\n",
      "Gone with the Wind (1939 8.12504720445103\n",
      "V for Vendetta (2005 8.12486298589155\n",
      "Inside Out (2015 8.123230359610053\n",
      "Lock, Stock and Two Smoking Barrels (1998 8.1220475384506\n",
      "Dial M for Murder (1954 8.120485580327328\n",
      "El secreto de sus ojos (2009 8.117357509676262\n",
      "Hauru no ugoku shiro (2004 8.115326580508428\n",
      "The Bridge on the River Kwai (1957 8.11331723818894\n",
      "Three Billboards Outside Ebbing, Missouri (2017 8.111481081733558\n",
      "Trainspotting (1996 8.110575270318769\n",
      "Warrior (2011 8.104088182083755\n",
      "Gran Torino (2008 8.103764263948868\n",
      "Fargo (1996 8.102929178371914\n",
      "Prisoners (2013 8.09926274952907\n",
      "Tonari no Totoro (1988 8.093993195207267\n",
      "Million Dollar Baby (2004 8.0894710533805\n",
      "Catch Me If You Can (2002 8.088429984547115\n",
      "The Gold Rush (1925 8.08688733152225\n",
      "Blade Runner (1982 8.084905172209066\n",
      "Bacheha-Ye aseman (1997 8.08411173435221\n",
      "On the Waterfront (1954 8.083440540419511\n",
      "The Third Man (1949 8.080960869523846\n",
      "Before Sunrise (1995 8.079293593855795\n",
      "12 Years a Slave (2013 8.079080463169841\n",
      "Ben-Hur (1959 8.078671245701102\n",
      "Smultronstället (1957 8.078061873047657\n",
      "Harry Potter and the Deathly Hallows: Part 2 (2011 8.077858263916719\n",
      "Gone Girl (2014 8.077271354299254\n",
      "The General (1926 8.076921084558965\n",
      "The Deer Hunter (1978 8.075094586367836\n",
      "In the Name of the Father (1993 8.074018426670433\n",
      "The Grand Budapest Hotel (2014 8.073771636075321\n",
      "Le salaire de la peur (1953 8.071536397026035\n",
      "Barry Lyndon (1975 8.071444786927142\n",
      "Mr Smith Goes to Washington (1939 8.070172086585409\n",
      "Sherlock Jr (1924 8.06913993066642\n",
      "Hacksaw Ridge (2016 8.069133386857393\n",
      "Salinui chueok (2003 8.068620349836156\n",
      "Klaus (2019 8.06786562409944\n",
      "Relatos salvajes (2014 8.066371775158713\n",
      "Det sjunde inseglet (1957 8.065488221335482\n",
      "Room (2015 8.06494457609548\n",
      "Mad Max: Fury Road (2015 8.06300532670553\n",
      "How to Train Your Dragon (2010 8.06183188014489\n",
      "Mary and Max (2009 8.06108802910867\n",
      "The Big Lebowski (1998 8.060881757387447\n",
      "Jaws (1975 8.060559516328132\n",
      "Monsters, Inc (2001 8.059627114741287\n",
      "Everything Everywhere All at Once (2022 8.058899532563231\n",
      "Tôkyô monogatari (1953 8.05597865353174\n",
      "Dead Poets Society (1989 8.054860049838624\n"
     ]
    },
    {
     "name": "stdout",
     "output_type": "stream",
     "text": [
      "La passion de Jeanne d'Arc (1928 8.053954119900796\n",
      "Hotel Rwanda (2004 8.051993000600719\n",
      "Ford v Ferrari (2019 8.04724814357597\n",
      "Rocky (1976 8.047229308704907\n",
      "Platoon (1986 8.046436843973188\n",
      "Pather Panchali (1955 8.04227634586977\n",
      "Stand by Me (1986 8.041099816407295\n",
      "The Terminator (1984 8.041009160979037\n",
      "Spotlight (2015 8.040050968208561\n",
      "Rush (2013 8.037991819595105\n",
      "Logan (2017 8.037544296215511\n",
      "Network (1976 8.036426080954062\n",
      "Ratatouille (2007 8.036416084088424\n",
      "Into the Wild (2007 8.034962741850409\n",
      "The Wizard of Oz (1939 8.033923843297321\n",
      "Groundhog Day (1993 8.030959868908376\n",
      "Before Sunset (2004 8.030007423942353\n",
      "Jai Bhim (2021 8.027772096111027\n",
      "The Exorcist (1973 8.027426830471931\n",
      "The Best Years of Our Lives (1946 8.026441856647772\n",
      "The Incredibles (2004 8.025806124676393\n",
      "To Be or Not to Be (1942 8.023971385831\n",
      "La battaglia di Algeri (1966 8.023177734271044\n",
      "The Grapes of Wrath (1940 8.022548798520193\n",
      "Rebecca (1940 8.021952088600221\n",
      "Hachi: A Dog's Tale (2009 8.021843101388793\n",
      "Cool Hand Luke (1967 8.021261226059407\n",
      "Pirates of the Caribbean: The Curse of the Black Pearl (2003 8.021087347197101\n",
      "Amores perros (2000 8.020951355179596\n",
      "La haine (1995 8.019092094505988\n",
      "Babam ve Oglum (2005 8.01779465970746\n",
      "Les quatre cents coups (1959 8.01579961681415\n",
      "Persona (1966 8.015296988189906\n",
      "It Happened One Night (1934 8.014309425930591\n",
      "The Sound of Music (1965 8.012868976327528\n",
      "Life of Brian (1979 8.012579621988207\n",
      "Ah-ga-ssi (2016 8.012280840019583\n",
      "Dersu Uzala (1975 8.009235390606223\n",
      "Aladdin (1992 8.005760038898297\n",
      "Gandhi (1982 8.005686624560989\n",
      "The Help (2011 8.00520137937675\n",
      "The Iron Giant (1999 8.002771303456308\n"
     ]
    },
    {
     "data": {
      "text/html": [
       "<div>\n",
       "<style scoped>\n",
       "    .dataframe tbody tr th:only-of-type {\n",
       "        vertical-align: middle;\n",
       "    }\n",
       "\n",
       "    .dataframe tbody tr th {\n",
       "        vertical-align: top;\n",
       "    }\n",
       "\n",
       "    .dataframe thead th {\n",
       "        text-align: right;\n",
       "    }\n",
       "</style>\n",
       "<table border=\"1\" class=\"dataframe\">\n",
       "  <thead>\n",
       "    <tr style=\"text-align: right;\">\n",
       "      <th></th>\n",
       "      <th>movie_title</th>\n",
       "      <th>rating</th>\n",
       "      <th>year</th>\n",
       "    </tr>\n",
       "  </thead>\n",
       "  <tbody>\n",
       "    <tr>\n",
       "      <th>0</th>\n",
       "      <td>The Shawshank Redemption</td>\n",
       "      <td>9.234832429526517</td>\n",
       "      <td>1994</td>\n",
       "    </tr>\n",
       "    <tr>\n",
       "      <th>1</th>\n",
       "      <td>The Godfather</td>\n",
       "      <td>9.156494127684832</td>\n",
       "      <td>1972</td>\n",
       "    </tr>\n",
       "    <tr>\n",
       "      <th>2</th>\n",
       "      <td>The Dark Knight</td>\n",
       "      <td>8.988109005241478</td>\n",
       "      <td>2008</td>\n",
       "    </tr>\n",
       "    <tr>\n",
       "      <th>3</th>\n",
       "      <td>The Godfather Part II</td>\n",
       "      <td>8.984427286299779</td>\n",
       "      <td>1974</td>\n",
       "    </tr>\n",
       "    <tr>\n",
       "      <th>4</th>\n",
       "      <td>12 Angry Men</td>\n",
       "      <td>8.949832174754173</td>\n",
       "      <td>1957</td>\n",
       "    </tr>\n",
       "    <tr>\n",
       "      <th>...</th>\n",
       "      <td>...</td>\n",
       "      <td>...</td>\n",
       "      <td>...</td>\n",
       "    </tr>\n",
       "    <tr>\n",
       "      <th>95</th>\n",
       "      <td>Citizen Kane</td>\n",
       "      <td>8.254990457695305</td>\n",
       "      <td>1941</td>\n",
       "    </tr>\n",
       "    <tr>\n",
       "      <th>96</th>\n",
       "      <td>M - Eine Stadt sucht einen Mörder</td>\n",
       "      <td>8.2541033233345</td>\n",
       "      <td>1931</td>\n",
       "    </tr>\n",
       "    <tr>\n",
       "      <th>97</th>\n",
       "      <td>North by Northwest</td>\n",
       "      <td>8.251252398901062</td>\n",
       "      <td>1959</td>\n",
       "    </tr>\n",
       "    <tr>\n",
       "      <th>98</th>\n",
       "      <td>Idi i smotri</td>\n",
       "      <td>8.248858883422592</td>\n",
       "      <td>1985</td>\n",
       "    </tr>\n",
       "    <tr>\n",
       "      <th>99</th>\n",
       "      <td>Vertigo</td>\n",
       "      <td>8.246159878666093</td>\n",
       "      <td>1958</td>\n",
       "    </tr>\n",
       "  </tbody>\n",
       "</table>\n",
       "<p>100 rows × 3 columns</p>\n",
       "</div>"
      ],
      "text/plain": [
       "                          movie_title             rating  year\n",
       "0            The Shawshank Redemption  9.234832429526517  1994\n",
       "1                       The Godfather  9.156494127684832  1972\n",
       "2                     The Dark Knight  8.988109005241478  2008\n",
       "3               The Godfather Part II  8.984427286299779  1974\n",
       "4                        12 Angry Men  8.949832174754173  1957\n",
       "..                                ...                ...   ...\n",
       "95                       Citizen Kane  8.254990457695305  1941\n",
       "96  M - Eine Stadt sucht einen Mörder    8.2541033233345  1931\n",
       "97                 North by Northwest  8.251252398901062  1959\n",
       "98                       Idi i smotri  8.248858883422592  1985\n",
       "99                            Vertigo  8.246159878666093  1958\n",
       "\n",
       "[100 rows x 3 columns]"
      ]
     },
     "execution_count": 35,
     "metadata": {},
     "output_type": "execute_result"
    }
   ],
   "source": [
    "#Problem-2\n",
    "\n",
    "url = 'http://www.imdb.com/chart/top'\n",
    "response = requests.get(url)\n",
    "soup = BeautifulSoup(response.text, \"html.parser\")\n",
    "movies = soup.select('td.titleColumn')\n",
    "crew = [a.attrs.get('title') for a in soup.select('td.titleColumn a')]\n",
    "ratings = [b.attrs.get('data-value')\n",
    "        for b in soup.select('td.posterColumn span[name=ir]')]\n",
    " \n",
    " \n",
    " \n",
    " \n",
    "# create a empty list for storing\n",
    "# movie information\n",
    "list = []\n",
    " \n",
    "# Iterating over movies to extract\n",
    "# each movie's details\n",
    "for index in range(0, len(movies)):\n",
    "     \n",
    "    # Separating movie into: 'Title',\n",
    "    # 'title', 'year'\n",
    "    movie_string = movies[index].get_text()\n",
    "    movie = (' '.join(movie_string.split()).replace('.', ''))\n",
    "    movie_title = movie[len(str(index))+1:-7]\n",
    "    year = re.search('\\((.*?)\\)', movie_string).group(1)\n",
    "    place = movie[:len(str(index))-(len(movie))]\n",
    "    data = {\"movie_title\": movie_title,\n",
    "            \"rating\": ratings[index],\n",
    "            \"year\": year}\n",
    "    list.append(data)\n",
    " \n",
    "# printing movie details with its rating.\n",
    "for movie in list:\n",
    "    print(movie['movie_title'], '('+movie['year'], movie['rating'])\n",
    " \n",
    " \n",
    "##.......##\n",
    "df = pd.DataFrame(list)\n",
    "df.to_csv('imdb_top_250_movies.csv',index=False)\n",
    "df[:100]\n"
   ]
  },
  {
   "cell_type": "code",
   "execution_count": null,
   "id": "ffb4353a",
   "metadata": {},
   "outputs": [],
   "source": []
  },
  {
   "cell_type": "code",
   "execution_count": 4,
   "id": "5ace99de",
   "metadata": {},
   "outputs": [
    {
     "data": {
      "text/plain": [
       "<Response [200]>"
      ]
     },
     "execution_count": 4,
     "metadata": {},
     "output_type": "execute_result"
    }
   ],
   "source": [
    "#Problem-4\n",
    "import  requests\n",
    "from  bs4 import BeautifulSoup\n",
    "url= requests.get('https://presidentofindia.nic.in/former-presidents.htm')\n",
    "url"
   ]
  },
  {
   "cell_type": "code",
   "execution_count": 5,
   "id": "74278c3d",
   "metadata": {},
   "outputs": [
    {
     "name": "stdout",
     "output_type": "stream",
     "text": [
      "<h1 class=\"alignLeft\" id=\"logo\" title=\"The President of India - Smt. Droupadi Murmu\">\n",
      "<a href=\"index.htm\" title=\"The President of India - Smt. Droupadi Murmu\"><img alt=\"The President of India - Smt. Droupadi Murmu\" height=\"74\" src=\"Images/logo.png\" title=\"The President of India - Smt. Droupadi Murmu\" width=\"439\"/></a></h1>\n",
      "<h2>Former Presidents</h2>\n",
      "<h3>Shri Ram Nath Kovind (birth - 1945)</h3>\n",
      "<h3>Shri Pranab Mukherjee (1935-2020)</h3>\n",
      "<h3>Smt Pratibha Devisingh Patil (birth - 1934)</h3>\n",
      "<h3>DR. A.P.J. Abdul Kalam (1931-2015)</h3>\n",
      "<h3>Shri K. R. Narayanan (1920 - 2005)</h3>\n",
      "<h3>Dr Shankar Dayal Sharma (1918-1999)</h3>\n",
      "<h3>Shri R Venkataraman (1910-2009)</h3>\n",
      "<h3>Giani Zail Singh (1916-1994)</h3>\n",
      "<h3>Shri Neelam Sanjiva Reddy (1913-1996)</h3>\n",
      "<h3>Dr. Fakhruddin Ali Ahmed (1905-1977)</h3>\n",
      "<h3>Shri Varahagiri Venkata Giri (1894-1980)</h3>\n",
      "<h3>Dr. Zakir Husain (1897-1969)</h3>\n",
      "<h3>Dr. Sarvepalli Radhakrishnan (1888-1975)</h3>\n",
      "<h3>Dr. Rajendra Prasad (1884-1963) </h3>\n",
      "<h2>\r\n",
      "        Subscribe\r\n",
      "    </h2>\n"
     ]
    }
   ],
   "source": [
    "soup = BeautifulSoup(url.content)\n",
    "soup\n",
    "Heading = soup.find_all(['h1', 'h2','h3'])\n",
    "for i in Heading:\n",
    "    print(i)"
   ]
  },
  {
   "cell_type": "code",
   "execution_count": 40,
   "id": "5009fca6",
   "metadata": {},
   "outputs": [
    {
     "data": {
      "text/plain": [
       "<Response [200]>"
      ]
     },
     "execution_count": 40,
     "metadata": {},
     "output_type": "execute_result"
    }
   ],
   "source": [
    "#Problem-9\n",
    "import  requests\n",
    "from  bs4 import BeautifulSoup\n",
    "Restaurants = requests.get('https://www.dineout.co.in/delhi-restaurants/buffet-special')\n",
    "Restaurants"
   ]
  },
  {
   "cell_type": "code",
   "execution_count": 48,
   "id": "4d04c7b2",
   "metadata": {},
   "outputs": [],
   "source": [
    "Restaurant_name=soup.find('a',class_='restnt-name ellipsis')\n",
    "Restaurant_name"
   ]
  },
  {
   "cell_type": "code",
   "execution_count": 43,
   "id": "4ffa0dee",
   "metadata": {},
   "outputs": [
    {
     "ename": "AttributeError",
     "evalue": "'NoneType' object has no attribute 'text'",
     "output_type": "error",
     "traceback": [
      "\u001b[1;31m---------------------------------------------------------------------------\u001b[0m",
      "\u001b[1;31mAttributeError\u001b[0m                            Traceback (most recent call last)",
      "\u001b[1;32m~\\AppData\\Local\\Temp/ipykernel_14720/1392421221.py\u001b[0m in \u001b[0;36m<module>\u001b[1;34m\u001b[0m\n\u001b[1;32m----> 1\u001b[1;33m \u001b[0mRestaurant_name\u001b[0m\u001b[1;33m.\u001b[0m\u001b[0mtext\u001b[0m\u001b[1;33m\u001b[0m\u001b[1;33m\u001b[0m\u001b[0m\n\u001b[0m",
      "\u001b[1;31mAttributeError\u001b[0m: 'NoneType' object has no attribute 'text'"
     ]
    }
   ],
   "source": [
    "Restaurant_name.text"
   ]
  },
  {
   "cell_type": "code",
   "execution_count": null,
   "id": "e2630161",
   "metadata": {},
   "outputs": [],
   "source": []
  },
  {
   "cell_type": "code",
   "execution_count": null,
   "id": "96b0fc23",
   "metadata": {},
   "outputs": [],
   "source": []
  },
  {
   "cell_type": "code",
   "execution_count": null,
   "id": "6102603d",
   "metadata": {},
   "outputs": [],
   "source": []
  },
  {
   "cell_type": "code",
   "execution_count": null,
   "id": "36eab7e9",
   "metadata": {},
   "outputs": [],
   "source": []
  },
  {
   "cell_type": "code",
   "execution_count": 1,
   "id": "d2ee426c",
   "metadata": {},
   "outputs": [
    {
     "data": {
      "text/plain": [
       "<Response [200]>"
      ]
     },
     "execution_count": 1,
     "metadata": {},
     "output_type": "execute_result"
    }
   ],
   "source": [
    "#Problem-10\n",
    "\n",
    "import  requests\n",
    "from  bs4 import BeautifulSoup\n",
    "page = requests.get('https://scholar.google.com/citations?view_op=top_venues&hl=en')\n",
    "page"
   ]
  },
  {
   "cell_type": "code",
   "execution_count": 49,
   "id": "8bd917bb",
   "metadata": {},
   "outputs": [
    {
     "data": {
      "text/plain": [
       "<td class=\"gsc_mvt_p\">1.</td>"
      ]
     },
     "execution_count": 49,
     "metadata": {},
     "output_type": "execute_result"
    }
   ],
   "source": [
    "Rank=soup.find('td',class_='gsc_mvt_p')\n",
    "Rank"
   ]
  },
  {
   "cell_type": "code",
   "execution_count": 6,
   "id": "749ca388",
   "metadata": {},
   "outputs": [
    {
     "data": {
      "text/plain": [
       "'1.'"
      ]
     },
     "execution_count": 6,
     "metadata": {},
     "output_type": "execute_result"
    }
   ],
   "source": [
    "Rank.text"
   ]
  },
  {
   "cell_type": "code",
   "execution_count": 7,
   "id": "4d05d4fe",
   "metadata": {},
   "outputs": [
    {
     "data": {
      "text/plain": [
       "<td class=\"gsc_mvt_t\">Nature</td>"
      ]
     },
     "execution_count": 7,
     "metadata": {},
     "output_type": "execute_result"
    }
   ],
   "source": [
    "Publication=soup.find('td',class_='gsc_mvt_t')\n",
    "Publication"
   ]
  },
  {
   "cell_type": "code",
   "execution_count": 8,
   "id": "fb779f67",
   "metadata": {},
   "outputs": [
    {
     "data": {
      "text/plain": [
       "'Nature'"
      ]
     },
     "execution_count": 8,
     "metadata": {},
     "output_type": "execute_result"
    }
   ],
   "source": [
    "Publication.text"
   ]
  },
  {
   "cell_type": "code",
   "execution_count": 10,
   "id": "93d61489",
   "metadata": {},
   "outputs": [
    {
     "data": {
      "text/plain": [
       "<td class=\"gsc_mvt_n\"><a class=\"gs_ibl gsc_mp_anchor\" href=\"/citations?hl=en&amp;oe=ASCII&amp;vq=en&amp;view_op=list_hcore&amp;venue=H--JoiVp8x8J.2022\">444</a></td>"
      ]
     },
     "execution_count": 10,
     "metadata": {},
     "output_type": "execute_result"
    }
   ],
   "source": [
    "h5index=soup.find('td',class_='gsc_mvt_n')\n",
    "h5index"
   ]
  },
  {
   "cell_type": "code",
   "execution_count": 11,
   "id": "2b1177e7",
   "metadata": {},
   "outputs": [
    {
     "data": {
      "text/plain": [
       "'444'"
      ]
     },
     "execution_count": 11,
     "metadata": {},
     "output_type": "execute_result"
    }
   ],
   "source": [
    "h5index.text"
   ]
  },
  {
   "cell_type": "code",
   "execution_count": 12,
   "id": "e33ba1e5",
   "metadata": {},
   "outputs": [
    {
     "data": {
      "text/plain": [
       "<span class=\"gs_ibl gsc_mp_anchor\">667</span>"
      ]
     },
     "execution_count": 12,
     "metadata": {},
     "output_type": "execute_result"
    }
   ],
   "source": [
    "h5median=soup.find('span',class_='gs_ibl gsc_mp_anchor')\n",
    "h5median"
   ]
  },
  {
   "cell_type": "code",
   "execution_count": 13,
   "id": "4ed76525",
   "metadata": {},
   "outputs": [
    {
     "data": {
      "text/plain": [
       "'667'"
      ]
     },
     "execution_count": 13,
     "metadata": {},
     "output_type": "execute_result"
    }
   ],
   "source": [
    "h5median.text"
   ]
  },
  {
   "cell_type": "code",
   "execution_count": 25,
   "id": "796ba110",
   "metadata": {},
   "outputs": [
    {
     "name": "stdout",
     "output_type": "stream",
     "text": [
      "['1.', '2.', '3.', '4.', '5.', '6.', '7.', '8.', '9.', '10.', '11.', '12.', '13.', '14.', '15.', '16.', '17.', '18.', '19.', '20.', '21.', '22.', '23.', '24.', '25.', '26.', '27.', '28.', '29.', '30.', '31.', '32.', '33.', '34.', '35.', '36.', '37.', '38.', '39.', '40.', '41.', '42.', '43.', '44.', '45.', '46.', '47.', '48.', '49.', '50.', '51.', '52.', '53.', '54.', '55.', '56.', '57.', '58.', '59.', '60.', '61.', '62.', '63.', '64.', '65.', '66.', '67.', '68.', '69.', '70.', '71.', '72.', '73.', '74.', '75.', '76.', '77.', '78.', '79.', '80.', '81.', '82.', '83.', '84.', '85.', '86.', '87.', '88.', '89.', '90.', '91.', '92.', '93.', '94.', '95.', '96.', '97.', '98.', '99.', '100.']"
     ]
    }
   ],
   "source": [
    "rank=[]\n",
    "\n",
    "for i in soup.find_all('td',class_='gsc_mvt_p'):\n",
    "    rank.append(i.text)\n",
    "print(rank,end='')"
   ]
  },
  {
   "cell_type": "code",
   "execution_count": 26,
   "id": "a89ed913",
   "metadata": {
    "scrolled": true
   },
   "outputs": [
    {
     "name": "stdout",
     "output_type": "stream",
     "text": [
      "['Nature', 'The New England Journal of Medicine', 'Science', 'IEEE/CVF Conference on Computer Vision and Pattern Recognition', 'The Lancet', 'Advanced Materials', 'Nature Communications', 'Cell', 'International Conference on Learning Representations', 'Neural Information Processing Systems', 'JAMA', 'Chemical Reviews', 'Proceedings of the National Academy of Sciences', 'Angewandte Chemie', 'Chemical Society Reviews', 'Journal of the American Chemical Society', 'IEEE/CVF International Conference on Computer Vision', 'Nucleic Acids Research', 'International Conference on Machine Learning', 'Nature Medicine', 'Renewable and Sustainable Energy Reviews', 'Science of The Total Environment', 'Advanced Energy Materials', 'Journal of Clinical Oncology', 'ACS Nano', 'Journal of Cleaner Production', 'Advanced Functional Materials', 'Physical Review Letters', 'Scientific Reports', 'The Lancet Oncology', 'Energy & Environmental Science', 'IEEE Access', 'PLoS ONE', 'Science Advances', 'Journal of the American College of Cardiology', 'Applied Catalysis B: Environmental', 'Nature Genetics', 'BMJ', 'Circulation', 'European Conference on Computer Vision', 'International Journal of Molecular Sciences', 'Nature Materials', 'Chemical engineering journal', 'AAAI Conference on Artificial Intelligence', 'Journal of Materials Chemistry A', 'ACS Applied Materials & Interfaces', 'Nature Biotechnology', 'The Lancet Infectious Diseases', 'Frontiers in Immunology', 'Applied Energy', 'Nano Energy', 'Nature Energy', 'Meeting of the Association for Computational Linguistics (ACL)', 'The Astrophysical Journal', 'Gastroenterology', 'Nature Methods', 'IEEE Transactions on Pattern Analysis and Machine Intelligence', 'Cochrane Database of Systematic Reviews', 'Blood', 'Neuron', 'Nano Letters', 'Morbidity and Mortality Weekly Report', 'European Heart Journal', 'Nature Nanotechnology', 'ACS Catalysis', 'Nature Neuroscience', 'American Economic Review', 'Journal of High Energy Physics', 'IEEE Communications Surveys & Tutorials', 'Annals of Oncology', 'Nutrients', 'Accounts of Chemical Research', 'Immunity', 'Environmental Science & Technology', 'Nature Reviews. Molecular Cell Biology', 'Gut', 'Physical Review D', 'ACS Energy Letters', 'Monthly Notices of the Royal Astronomical Society', 'Conference on Empirical Methods in Natural Language Processing (EMNLP)', 'Clinical Infectious Diseases', 'Cell Metabolism', 'Nature Reviews Immunology', 'Joule', 'Nature Photonics', 'International Journal of Environmental Research and Public Health', 'Environmental Pollution', 'Computers in Human Behavior', 'Frontiers in Microbiology', 'Nature Physics', 'Small', 'Cell Reports', 'Molecular Cell', 'Clinical Cancer Research', 'Bioresource Technology', 'Journal of Business Research', 'Molecular Cancer', 'Sensors', 'Nature Climate Change', 'IEEE Internet of Things Journal']"
     ]
    }
   ],
   "source": [
    "Publication=[]\n",
    "\n",
    "for i in soup.find_all('td',class_='gsc_mvt_t'):\n",
    "    Publication.append(i.text)\n",
    "print(Publication,end='')"
   ]
  },
  {
   "cell_type": "code",
   "execution_count": 27,
   "id": "00f1ef8d",
   "metadata": {},
   "outputs": [
    {
     "name": "stdout",
     "output_type": "stream",
     "text": [
      "['444', '667', '432', '780', '401', '614', '389', '627', '354', '635', '312', '418', '307', '428', '300', '505', '286', '533', '278', '436', '267', '425', '265', '444', '256', '364', '245', '332', '244', '386', '242', '344', '239', '415', '238', '550', '237', '421', '235', '389', '227', '324', '225', '311', '220', '300', '213', '315', '211', '277', '211', '273', '210', '280', '207', '294', '206', '274', '202', '329', '202', '290', '200', '303', '198', '278', '197', '294', '195', '276', '192', '246', '191', '297', '190', '307', '189', '301', '186', '321', '183', '253', '181', '265', '181', '224', '180', '296', '178', '220', '177', '223', '175', '315', '173', '296', '173', '228', '173', '217', '172', '232', '170', '314', '169', '304', '167', '234', '166', '254', '165', '296', '165', '293', '165', '243', '165', '229', '164', '231', '164', '207', '163', '302', '163', '265', '163', '264', '163', '220', '162', '248', '160', '263', '160', '220', '159', '304', '159', '243', '159', '214', '159', '211', '158', '242', '158', '214', '155', '340', '155', '235', '155', '217', '155', '212', '155', '194', '154', '249', '153', '278', '153', '211', '152', '292', '152', '233', '152', '228', '152', '225', '152', '222', '152', '214', '151', '225', '151', '222', '150', '196', '149', '205', '149', '202', '146', '201', '146', '190', '145', '233', '145', '209', '145', '201', '144', '228', '144', '212']"
     ]
    }
   ],
   "source": [
    "h5index=[]\n",
    "\n",
    "for i in soup.find_all('td',class_='gsc_mvt_n'):\n",
    "    h5index.append(i.text)\n",
    "print(h5index,end='')"
   ]
  },
  {
   "cell_type": "code",
   "execution_count": 28,
   "id": "3bcae7ed",
   "metadata": {},
   "outputs": [
    {
     "name": "stdout",
     "output_type": "stream",
     "text": [
      "['667', '780', '614', '627', '635', '418', '428', '505', '533', '436', '425', '444', '364', '332', '386', '344', '415', '550', '421', '389', '324', '311', '300', '315', '277', '273', '280', '294', '274', '329', '290', '303', '278', '294', '276', '246', '297', '307', '301', '321', '253', '265', '224', '296', '220', '223', '315', '296', '228', '217', '232', '314', '304', '234', '254', '296', '293', '243', '229', '231', '207', '302', '265', '264', '220', '248', '263', '220', '304', '243', '214', '211', '242', '214', '340', '235', '217', '212', '194', '249', '278', '211', '292', '233', '228', '225', '222', '214', '225', '222', '196', '205', '202', '201', '190', '233', '209', '201', '228', '212']"
     ]
    }
   ],
   "source": [
    "h5median=[]\n",
    "\n",
    "for i in soup.find_all('span',class_='gs_ibl gsc_mp_anchor'):\n",
    "    h5median.append(i.text)\n",
    "print(h5median,end='')"
   ]
  },
  {
   "cell_type": "code",
   "execution_count": null,
   "id": "61ec7109",
   "metadata": {},
   "outputs": [],
   "source": []
  },
  {
   "cell_type": "code",
   "execution_count": null,
   "id": "5b6373a4",
   "metadata": {},
   "outputs": [],
   "source": []
  },
  {
   "cell_type": "code",
   "execution_count": null,
   "id": "97f7322a",
   "metadata": {},
   "outputs": [],
   "source": []
  },
  {
   "cell_type": "code",
   "execution_count": null,
   "id": "74d39264",
   "metadata": {},
   "outputs": [],
   "source": []
  }
 ],
 "metadata": {
  "kernelspec": {
   "display_name": "Python 3 (ipykernel)",
   "language": "python",
   "name": "python3"
  },
  "language_info": {
   "codemirror_mode": {
    "name": "ipython",
    "version": 3
   },
   "file_extension": ".py",
   "mimetype": "text/x-python",
   "name": "python",
   "nbconvert_exporter": "python",
   "pygments_lexer": "ipython3",
   "version": "3.9.7"
  }
 },
 "nbformat": 4,
 "nbformat_minor": 5
}

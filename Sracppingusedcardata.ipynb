{
 "cells": [
  {
   "cell_type": "code",
   "execution_count": 84,
   "id": "643fff32",
   "metadata": {},
   "outputs": [],
   "source": [
    "import selenium\n",
    "from selenium import webdriver\n",
    "import pandas as pd\n",
    "from selenium.webdriver.common.by import By\n",
    "from selenium.common.exceptions import NoSuchElementException\n",
    "\n",
    "import time\n",
    "import warnings\n",
    "warnings.filterwarnings('ignore')"
   ]
  },
  {
   "cell_type": "markdown",
   "id": "3192681b",
   "metadata": {},
   "source": [
    "## Carwale.com"
   ]
  },
  {
   "cell_type": "code",
   "execution_count": 85,
   "id": "e5ddd646",
   "metadata": {},
   "outputs": [],
   "source": [
    "driver = webdriver.Chrome(r'/Users/priti/FlipRobo/chromedriver')\n",
    "driver.get('https://www.carwale.com/used/cars-for-sale/#sc=-1&so=-1&pn=5&lcr=96&ldr=0&lir=0')"
   ]
  },
  {
   "cell_type": "code",
   "execution_count": 86,
   "id": "bd745c5c",
   "metadata": {},
   "outputs": [],
   "source": [
    "for _ in range(500):\n",
    "    driver.execute_script(\"window.scrollBy(0,500)\")"
   ]
  },
  {
   "cell_type": "code",
   "execution_count": 87,
   "id": "9edde22c",
   "metadata": {},
   "outputs": [],
   "source": [
    "name,year,km,fuel,city,price = [],[],[],[],[],[]"
   ]
  },
  {
   "cell_type": "code",
   "execution_count": 88,
   "id": "725b5af4",
   "metadata": {},
   "outputs": [],
   "source": [
    "for i in driver.find_elements(By.XPATH,'//span[@class=\"spancarname card-detail-block__title-text-with-year\"]'):\n",
    "    try:\n",
    "        name.append(i.text)\n",
    "    except NoSuchElementException:\n",
    "        name.append('-')\n",
    "        \n",
    "for i in driver.find_elements(By.XPATH,'//span[@class=\"slYear card-detail-block__title-text-with-year\"]'):\n",
    "    try:\n",
    "        year.append(i.text)\n",
    "    except NoSuchElementException:\n",
    "        year.append('-')\n",
    "        \n",
    "for i in driver.find_elements(By.XPATH,'//span[@class=\"slkms\"]'):\n",
    "    try:\n",
    "        km.append(i.text)\n",
    "    except NoSuchElementException:\n",
    "        km.append('-')\n",
    "        \n",
    "for i in driver.find_elements(By.XPATH,'//span[@class=\"fuel\"]'):\n",
    "    try:\n",
    "        fuel.append(i.text)\n",
    "    except NoSuchElementException:\n",
    "        fuel.append('-')\n",
    "        \n",
    "for i in driver.find_elements(By.XPATH,'//span[@class=\"cityName\"]'):\n",
    "    try:\n",
    "        city.append(i.text)\n",
    "    except NoSuchElementException:\n",
    "        city.append('-')\n",
    "        \n",
    "for i in driver.find_elements(By.XPATH,'//span[@class=\"rupee-lac slprice\"]'):\n",
    "    try:\n",
    "        price.append(i.text)\n",
    "    except NoSuchElementException:\n",
    "        price.append('-')"
   ]
  },
  {
   "cell_type": "code",
   "execution_count": 89,
   "id": "ad11c3a8",
   "metadata": {},
   "outputs": [
    {
     "data": {
      "text/plain": [
       "(248, 248, 248, 248, 248, 248)"
      ]
     },
     "execution_count": 89,
     "metadata": {},
     "output_type": "execute_result"
    }
   ],
   "source": [
    "len(name),len(year),len(km),len(fuel),len(city),len(price)"
   ]
  },
  {
   "cell_type": "markdown",
   "id": "514821e1",
   "metadata": {},
   "source": [
    "## CarDekho.com"
   ]
  },
  {
   "cell_type": "markdown",
   "id": "ee4d7bee",
   "metadata": {},
   "source": [
    "**- Pune**"
   ]
  },
  {
   "cell_type": "code",
   "execution_count": 90,
   "id": "0d07e828",
   "metadata": {},
   "outputs": [],
   "source": [
    "driver.get('https://www.cardekho.com/used-cars+in+pune')"
   ]
  },
  {
   "cell_type": "code",
   "execution_count": 91,
   "id": "c5f88915",
   "metadata": {},
   "outputs": [],
   "source": [
    "for _ in range(500):\n",
    "    driver.execute_script(\"window.scrollBy(0,300)\")"
   ]
  },
  {
   "cell_type": "code",
   "execution_count": 92,
   "id": "ab143455",
   "metadata": {},
   "outputs": [],
   "source": [
    "try:\n",
    "    for i in driver.find_elements(By.XPATH,'//div[@class=\"gsc_col-xs-7  carsName\"]'):\n",
    "        name.append(i.text.split('\\n')[0])\n",
    "        year.append(i.text.split('\\n')[0].split(' ')[0])\n",
    "        km.append(i.text.split('\\n')[-4])\n",
    "        fuel.append(i.text.split('\\n')[-3])\n",
    "        city.append('Pune')\n",
    "except NoSuchElementException:\n",
    "    name.append('-')\n",
    "    year.append('-')\n",
    "    km.append('-')\n",
    "    fuel.append('-')\n",
    "    city.append('-')\n",
    "    \n",
    "try:\n",
    "    for i in driver.find_elements(By.XPATH,'//span[@class=\"amnt \"]'):\n",
    "        price.append(i.text)\n",
    "except NoSuchElementException:\n",
    "    price.append('-')"
   ]
  },
  {
   "cell_type": "code",
   "execution_count": 93,
   "id": "b9b59f88",
   "metadata": {},
   "outputs": [
    {
     "data": {
      "text/plain": [
       "(1274, 1274, 1274, 1274, 1274, 1274)"
      ]
     },
     "execution_count": 93,
     "metadata": {},
     "output_type": "execute_result"
    }
   ],
   "source": [
    "len(name),len(year),len(km),len(fuel),len(city),len(price)"
   ]
  },
  {
   "cell_type": "markdown",
   "id": "ff72048c",
   "metadata": {},
   "source": [
    "**- Mumbai**"
   ]
  },
  {
   "cell_type": "code",
   "execution_count": 94,
   "id": "a3f38662",
   "metadata": {},
   "outputs": [],
   "source": [
    "driver.get('https://www.cardekho.com/used-cars+in+mumbai')"
   ]
  },
  {
   "cell_type": "code",
   "execution_count": 95,
   "id": "0042e00a",
   "metadata": {},
   "outputs": [],
   "source": [
    "for _ in range(500):\n",
    "    driver.execute_script(\"window.scrollBy(0,100)\")"
   ]
  },
  {
   "cell_type": "code",
   "execution_count": 96,
   "id": "0021670a",
   "metadata": {},
   "outputs": [],
   "source": [
    "try:\n",
    "    for i in driver.find_elements(By.XPATH,'//div[@class=\"gsc_col-xs-7  carsName\"]'):\n",
    "        name.append(i.text.split('\\n')[0])\n",
    "        year.append(i.text.split('\\n')[0].split(' ')[0])\n",
    "        km.append(i.text.split('\\n')[-4])\n",
    "        fuel.append(i.text.split('\\n')[-3])\n",
    "        city.append('Mumbai')\n",
    "except NoSuchElementException:\n",
    "    name.append('-')\n",
    "    year.append('-')\n",
    "    km.append('-')\n",
    "    fuel.append('-')\n",
    "    city.append('-')\n",
    "    \n",
    "    \n",
    "try:\n",
    "    for i in driver.find_elements(By.XPATH,'//span[@class=\"amnt \"]'):\n",
    "        price.append(i.text)\n",
    "except NoSuchElementException:\n",
    "    price.append('-')"
   ]
  },
  {
   "cell_type": "code",
   "execution_count": 97,
   "id": "71a7778c",
   "metadata": {},
   "outputs": [
    {
     "data": {
      "text/plain": [
       "(1814, 1814, 1814, 1814, 1814, 1814)"
      ]
     },
     "execution_count": 97,
     "metadata": {},
     "output_type": "execute_result"
    }
   ],
   "source": [
    "len(name),len(year),len(km),len(fuel),len(city),len(price)"
   ]
  },
  {
   "cell_type": "markdown",
   "id": "afda9dcd",
   "metadata": {},
   "source": [
    "**- Delhi**"
   ]
  },
  {
   "cell_type": "code",
   "execution_count": 98,
   "id": "227c5423",
   "metadata": {},
   "outputs": [],
   "source": [
    "driver.get('https://www.cardekho.com/used-cars+in+delhi-ncr')"
   ]
  },
  {
   "cell_type": "code",
   "execution_count": 99,
   "id": "619f5c79",
   "metadata": {},
   "outputs": [],
   "source": [
    "for _ in range(500):\n",
    "    driver.execute_script(\"window.scrollBy(0,100)\")"
   ]
  },
  {
   "cell_type": "code",
   "execution_count": 100,
   "id": "c7e3e1cb",
   "metadata": {},
   "outputs": [],
   "source": [
    "try:\n",
    "    for i in driver.find_elements(By.XPATH,'//div[@class=\"gsc_col-xs-7  carsName\"]'):\n",
    "        name.append(i.text.split('\\n')[0])\n",
    "        year.append(i.text.split('\\n')[0].split(' ')[0])\n",
    "        km.append(i.text.split('\\n')[-4])\n",
    "        fuel.append(i.text.split('\\n')[-3])\n",
    "        city.append('Delhi')\n",
    "except NoSuchElementException:\n",
    "    name.append('-')\n",
    "    year.append('-')\n",
    "    km.append('-')\n",
    "    fuel.append('-')\n",
    "    city.append('-')\n",
    "    \n",
    "    \n",
    "try:\n",
    "    for i in driver.find_elements(By.XPATH,'//span[@class=\"amnt \"]'):\n",
    "        price.append(i.text)\n",
    "except NoSuchElementException:\n",
    "    price.append('-')"
   ]
  },
  {
   "cell_type": "code",
   "execution_count": 101,
   "id": "dfaad4f2",
   "metadata": {},
   "outputs": [
    {
     "data": {
      "text/plain": [
       "(2414, 2414, 2414, 2414, 2414, 2414)"
      ]
     },
     "execution_count": 101,
     "metadata": {},
     "output_type": "execute_result"
    }
   ],
   "source": [
    "len(name),len(year),len(km),len(fuel),len(city),len(price)"
   ]
  },
  {
   "cell_type": "markdown",
   "id": "4c523697",
   "metadata": {},
   "source": [
    "**- Ahemdabad**"
   ]
  },
  {
   "cell_type": "code",
   "execution_count": 102,
   "id": "4901f5d2",
   "metadata": {},
   "outputs": [],
   "source": [
    "driver.get('https://www.cardekho.com/used-cars+in+ahmedabad')"
   ]
  },
  {
   "cell_type": "code",
   "execution_count": 103,
   "id": "4b35358d",
   "metadata": {},
   "outputs": [],
   "source": [
    "for _ in range(500):\n",
    "    driver.execute_script(\"window.scrollBy(0,80)\")"
   ]
  },
  {
   "cell_type": "code",
   "execution_count": 104,
   "id": "c526be3f",
   "metadata": {},
   "outputs": [],
   "source": [
    "try:\n",
    "    for i in driver.find_elements(By.XPATH,'//div[@class=\"gsc_col-xs-7  carsName\"]'):\n",
    "        name.append(i.text.split('\\n')[0])\n",
    "        year.append(i.text.split('\\n')[0].split(' ')[0])\n",
    "        km.append(i.text.split('\\n')[-4])\n",
    "        fuel.append(i.text.split('\\n')[-3])\n",
    "        city.append('Ahemdabad')\n",
    "except NoSuchElementException:\n",
    "    name.append('-')\n",
    "    year.append('-')\n",
    "    km.append('-')\n",
    "    fuel.append('-')\n",
    "    city.append('-')\n",
    "    \n",
    "    \n",
    "try:\n",
    "    for i in driver.find_elements(By.XPATH,'//span[@class=\"amnt \"]'):\n",
    "        price.append(i.text)\n",
    "except NoSuchElementException:\n",
    "    price.append('-')"
   ]
  },
  {
   "cell_type": "code",
   "execution_count": 105,
   "id": "e686215a",
   "metadata": {},
   "outputs": [
    {
     "data": {
      "text/plain": [
       "(2894, 2894, 2894, 2894, 2894, 2894)"
      ]
     },
     "execution_count": 105,
     "metadata": {},
     "output_type": "execute_result"
    }
   ],
   "source": [
    "len(name),len(year),len(km),len(fuel),len(city),len(price)"
   ]
  },
  {
   "cell_type": "markdown",
   "id": "4ee16965",
   "metadata": {},
   "source": [
    "**- Bangalore**"
   ]
  },
  {
   "cell_type": "code",
   "execution_count": 106,
   "id": "4d09a22e",
   "metadata": {},
   "outputs": [],
   "source": [
    "driver.get('https://www.cardekho.com/used-cars+in+bangalore')"
   ]
  },
  {
   "cell_type": "code",
   "execution_count": 107,
   "id": "1bbdec6c",
   "metadata": {},
   "outputs": [],
   "source": [
    "for _ in range(500):\n",
    "    driver.execute_script(\"window.scrollBy(0,100)\")"
   ]
  },
  {
   "cell_type": "code",
   "execution_count": 108,
   "id": "c4669687",
   "metadata": {},
   "outputs": [],
   "source": [
    "try:\n",
    "    for i in driver.find_elements(By.XPATH,'//div[@class=\"gsc_col-xs-7  carsName\"]'):\n",
    "        name.append(i.text.split('\\n')[0])\n",
    "        year.append(i.text.split('\\n')[0].split(' ')[0])\n",
    "        km.append(i.text.split('\\n')[-4])\n",
    "        fuel.append(i.text.split('\\n')[-3])\n",
    "        city.append('Bangalore')\n",
    "except NoSuchElementException:\n",
    "    name.append('-')\n",
    "    year.append('-')\n",
    "    km.append('-')\n",
    "    fuel.append('-')\n",
    "    city.append('-')\n",
    "    \n",
    "    \n",
    "try:\n",
    "    for i in driver.find_elements(By.XPATH,'//span[@class=\"amnt \"]'):\n",
    "        price.append(i.text)\n",
    "except NoSuchElementException:\n",
    "    price.append('-')"
   ]
  },
  {
   "cell_type": "code",
   "execution_count": 109,
   "id": "566b05ad",
   "metadata": {},
   "outputs": [
    {
     "data": {
      "text/plain": [
       "(3214, 3214, 3214, 3214, 3214, 3214)"
      ]
     },
     "execution_count": 109,
     "metadata": {},
     "output_type": "execute_result"
    }
   ],
   "source": [
    "len(name),len(year),len(km),len(fuel),len(city),len(price)"
   ]
  },
  {
   "cell_type": "markdown",
   "id": "e3181c76",
   "metadata": {},
   "source": [
    "**- Hyderabad**"
   ]
  },
  {
   "cell_type": "code",
   "execution_count": 110,
   "id": "067f51e1",
   "metadata": {},
   "outputs": [],
   "source": [
    "driver.get('https://www.cardekho.com/used-cars+in+hyderabad')"
   ]
  },
  {
   "cell_type": "code",
   "execution_count": 111,
   "id": "a3031c03",
   "metadata": {},
   "outputs": [],
   "source": [
    "for _ in range(500):\n",
    "    driver.execute_script(\"window.scrollBy(0,100)\")"
   ]
  },
  {
   "cell_type": "code",
   "execution_count": 112,
   "id": "26188f71",
   "metadata": {},
   "outputs": [],
   "source": [
    "try:\n",
    "    for i in driver.find_elements(By.XPATH,'//div[@class=\"gsc_col-xs-7  carsName\"]'):\n",
    "        name.append(i.text.split('\\n')[0])\n",
    "        year.append(i.text.split('\\n')[0].split(' ')[0])\n",
    "        km.append(i.text.split('\\n')[-4])\n",
    "        fuel.append(i.text.split('\\n')[-3])\n",
    "        city.append('Hyderabad')\n",
    "except NoSuchElementException:\n",
    "    name.append('-')\n",
    "    year.append('-')\n",
    "    km.append('-')\n",
    "    fuel.append('-')\n",
    "    city.append('-')\n",
    "    \n",
    "try:\n",
    "    for i in driver.find_elements(By.XPATH,'//span[@class=\"amnt \"]'):\n",
    "        price.append(i.text)\n",
    "except NoSuchElementException:\n",
    "    price.append('-')"
   ]
  },
  {
   "cell_type": "code",
   "execution_count": 113,
   "id": "3980cce7",
   "metadata": {},
   "outputs": [
    {
     "data": {
      "text/plain": [
       "(3814, 3814, 3814, 3814, 3814, 3814)"
      ]
     },
     "execution_count": 113,
     "metadata": {},
     "output_type": "execute_result"
    }
   ],
   "source": [
    "len(name),len(year),len(km),len(fuel),len(city),len(price)"
   ]
  },
  {
   "cell_type": "markdown",
   "id": "3a05d538",
   "metadata": {},
   "source": [
    "## CarTrade.com"
   ]
  },
  {
   "cell_type": "code",
   "execution_count": 114,
   "id": "a66f041b",
   "metadata": {},
   "outputs": [],
   "source": [
    "driver.get('https://www.cartrade.com/buy-used-cars/#sc=-1&so=-1&pn=1')"
   ]
  },
  {
   "cell_type": "code",
   "execution_count": 115,
   "id": "e3918ce2",
   "metadata": {},
   "outputs": [],
   "source": [
    "try:\n",
    "    for i in driver.find_elements(By.XPATH,'//h2[@class=\"h2heading truncate\"]'):\n",
    "        name.append(i.text)\n",
    "        year.append(i.text.split(' ')[0])\n",
    "except NoSuchElementException:\n",
    "    name.append('-')\n",
    "    year.append('-')\n",
    "    \n",
    "try:\n",
    "    for i in driver.find_elements(By.XPATH,'//div[@class=\"cr_prc\"]'):\n",
    "        price.append(i.text.split(' ')[0])\n",
    "except NoSuchElementException:\n",
    "    price.append('-')\n",
    "    \n",
    "try:\n",
    "    for i in driver.find_elements(By.XPATH,'//div[@class=\"info_cr_new\"]'):\n",
    "        km.append(i.text.split('\\n')[0])\n",
    "        fuel.append(i.text.split('\\n')[1])\n",
    "        city.append(i.text.split('\\n')[2])\n",
    "\n",
    "except NoSuchElementException:\n",
    "    km.append('-')\n",
    "    fuel.append('-')\n",
    "    city.append('-')"
   ]
  },
  {
   "cell_type": "code",
   "execution_count": 116,
   "id": "21b5960c",
   "metadata": {},
   "outputs": [],
   "source": [
    "nex = driver.find_element(By.XPATH,'/html/body/div[6]/div[2]/div[1]/div[2]/div[4]/div[2]/div/div/ul/li[4]/a')\n",
    "nex.click()"
   ]
  },
  {
   "cell_type": "code",
   "execution_count": 117,
   "id": "aae326cd",
   "metadata": {},
   "outputs": [],
   "source": [
    "try:\n",
    "    for i in driver.find_elements(By.XPATH,'//h2[@class=\"h2heading truncate\"]'):\n",
    "        name.append(i.text)\n",
    "        year.append(i.text.split(' ')[0])\n",
    "except NoSuchElementException:\n",
    "    name.append('-')\n",
    "    year.append('-')\n",
    "    \n",
    "try:\n",
    "    for i in driver.find_elements(By.XPATH,'//div[@class=\"cr_prc\"]'):\n",
    "        price.append(i.text.split(' ')[0])\n",
    "except NoSuchElementException:\n",
    "    price.append('-')\n",
    "    \n",
    "try:\n",
    "    for i in driver.find_elements(By.XPATH,'//div[@class=\"info_cr_new\"]'):\n",
    "        km.append(i.text.split('\\n')[0])\n",
    "        fuel.append(i.text.split('\\n')[1])\n",
    "        city.append(i.text.split('\\n')[2])\n",
    "\n",
    "except NoSuchElementException:\n",
    "    km.append('-')\n",
    "    fuel.append('-')\n",
    "    city.append('-')"
   ]
  },
  {
   "cell_type": "code",
   "execution_count": 118,
   "id": "584d72d6",
   "metadata": {},
   "outputs": [],
   "source": [
    "nex = driver.find_element(By.XPATH,'/html/body/div[6]/div[2]/div[1]/div[2]/div[4]/div[2]/div/div/ul/li[6]/a')\n",
    "nex.click()"
   ]
  },
  {
   "cell_type": "code",
   "execution_count": 119,
   "id": "76387a67",
   "metadata": {},
   "outputs": [],
   "source": [
    "try:\n",
    "    for i in driver.find_elements(By.XPATH,'//h2[@class=\"h2heading truncate\"]'):\n",
    "        name.append(i.text)\n",
    "        year.append(i.text.split(' ')[0])\n",
    "except NoSuchElementException:\n",
    "    name.append('-')\n",
    "    year.append('-')\n",
    "    \n",
    "try:\n",
    "    for i in driver.find_elements(By.XPATH,'//div[@class=\"cr_prc\"]'):\n",
    "        price.append(i.text.split(' ')[0])\n",
    "except NoSuchElementException:\n",
    "    price.append('-')\n",
    "    \n",
    "try:\n",
    "    for i in driver.find_elements(By.XPATH,'//div[@class=\"info_cr_new\"]'):\n",
    "        km.append(i.text.split('\\n')[0])\n",
    "        fuel.append(i.text.split('\\n')[1])\n",
    "        city.append(i.text.split('\\n')[2])\n",
    "\n",
    "except NoSuchElementException:\n",
    "    km.append('-')\n",
    "    fuel.append('-')\n",
    "    city.append('-')"
   ]
  },
  {
   "cell_type": "code",
   "execution_count": 120,
   "id": "b0e9da18",
   "metadata": {},
   "outputs": [],
   "source": [
    "nex = driver.find_element(By.XPATH,'/html/body/div[6]/div[2]/div[1]/div[2]/div[4]/div[2]/div/div/ul/li[7]/a')\n",
    "nex.click()"
   ]
  },
  {
   "cell_type": "code",
   "execution_count": 121,
   "id": "e52dbb44",
   "metadata": {},
   "outputs": [],
   "source": [
    "try:\n",
    "    for i in driver.find_elements(By.XPATH,'//h2[@class=\"h2heading truncate\"]'):\n",
    "        name.append(i.text)\n",
    "        year.append(i.text.split(' ')[0])\n",
    "except NoSuchElementException:\n",
    "    name.append('-')\n",
    "    year.append('-')\n",
    "    \n",
    "try:\n",
    "    for i in driver.find_elements(By.XPATH,'//div[@class=\"cr_prc\"]'):\n",
    "        price.append(i.text.split(' ')[0])\n",
    "except NoSuchElementException:\n",
    "    price.append('-')\n",
    "    \n",
    "try:\n",
    "    for i in driver.find_elements(By.XPATH,'//div[@class=\"info_cr_new\"]'):\n",
    "        km.append(i.text.split('\\n')[0])\n",
    "        fuel.append(i.text.split('\\n')[1])\n",
    "        city.append(i.text.split('\\n')[2])\n",
    "\n",
    "except NoSuchElementException:\n",
    "    km.append('-')\n",
    "    fuel.append('-')\n",
    "    city.append('-')"
   ]
  },
  {
   "cell_type": "code",
   "execution_count": 122,
   "id": "6f640df4",
   "metadata": {},
   "outputs": [],
   "source": [
    "nex = driver.find_element(By.XPATH,'/html/body/div[6]/div[2]/div[1]/div[2]/div[4]/div[2]/div/div/ul/li[7]/a')\n",
    "nex.click()"
   ]
  },
  {
   "cell_type": "code",
   "execution_count": 123,
   "id": "fc7dd32d",
   "metadata": {},
   "outputs": [],
   "source": [
    "try:\n",
    "    for i in driver.find_elements(By.XPATH,'//h2[@class=\"h2heading truncate\"]'):\n",
    "        name.append(i.text)\n",
    "        year.append(i.text.split(' ')[0])\n",
    "except NoSuchElementException:\n",
    "    name.append('-')\n",
    "    year.append('-')\n",
    "    \n",
    "try:\n",
    "    for i in driver.find_elements(By.XPATH,'//div[@class=\"cr_prc\"]'):\n",
    "        price.append(i.text.split(' ')[0])\n",
    "except NoSuchElementException:\n",
    "    price.append('-')\n",
    "    \n",
    "try:\n",
    "    for i in driver.find_elements(By.XPATH,'//div[@class=\"info_cr_new\"]'):\n",
    "        km.append(i.text.split('\\n')[0])\n",
    "        fuel.append(i.text.split('\\n')[1])\n",
    "        city.append(i.text.split('\\n')[2])\n",
    "\n",
    "except NoSuchElementException:\n",
    "    km.append('-')\n",
    "    fuel.append('-')\n",
    "    city.append('-')"
   ]
  },
  {
   "cell_type": "code",
   "execution_count": 124,
   "id": "94d0d78c",
   "metadata": {},
   "outputs": [
    {
     "data": {
      "text/plain": [
       "(3942, 3942, 3942, 3942, 3942, 3942)"
      ]
     },
     "execution_count": 124,
     "metadata": {},
     "output_type": "execute_result"
    }
   ],
   "source": [
    "len(name),len(year),len(km),len(fuel),len(city),len(price)"
   ]
  },
  {
   "cell_type": "code",
   "execution_count": 182,
   "id": "6a4c0d20",
   "metadata": {},
   "outputs": [
    {
     "data": {
      "text/html": [
       "<div>\n",
       "<style scoped>\n",
       "    .dataframe tbody tr th:only-of-type {\n",
       "        vertical-align: middle;\n",
       "    }\n",
       "\n",
       "    .dataframe tbody tr th {\n",
       "        vertical-align: top;\n",
       "    }\n",
       "\n",
       "    .dataframe thead th {\n",
       "        text-align: right;\n",
       "    }\n",
       "</style>\n",
       "<table border=\"1\" class=\"dataframe\">\n",
       "  <thead>\n",
       "    <tr style=\"text-align: right;\">\n",
       "      <th></th>\n",
       "      <th>Name</th>\n",
       "      <th>Year</th>\n",
       "      <th>Fuel</th>\n",
       "      <th>Driven(km)</th>\n",
       "      <th>City</th>\n",
       "      <th>Price</th>\n",
       "    </tr>\n",
       "  </thead>\n",
       "  <tbody>\n",
       "    <tr>\n",
       "      <th>0</th>\n",
       "      <td>Honda Amaze 1.2 VX i-VTEC</td>\n",
       "      <td>2017</td>\n",
       "      <td>Petrol</td>\n",
       "      <td>98,055 km</td>\n",
       "      <td>Pune</td>\n",
       "      <td>₹ 5.7 Lakh</td>\n",
       "    </tr>\n",
       "    <tr>\n",
       "      <th>1</th>\n",
       "      <td>Nissan Micra Active XV</td>\n",
       "      <td>2016</td>\n",
       "      <td>Petrol</td>\n",
       "      <td>45,227 km</td>\n",
       "      <td>Bhopal</td>\n",
       "      <td>₹ 3.85 Lakh</td>\n",
       "    </tr>\n",
       "    <tr>\n",
       "      <th>2</th>\n",
       "      <td>Renault Kwid RXT [2015-2019]</td>\n",
       "      <td>2017</td>\n",
       "      <td>Petrol</td>\n",
       "      <td>48,000 km</td>\n",
       "      <td>Noida</td>\n",
       "      <td>₹ 2.75 Lakh</td>\n",
       "    </tr>\n",
       "    <tr>\n",
       "      <th>3</th>\n",
       "      <td>Honda City VX</td>\n",
       "      <td>2021</td>\n",
       "      <td>Petrol</td>\n",
       "      <td>1,500 km</td>\n",
       "      <td>Mumbai</td>\n",
       "      <td>₹ 13.65 Lakh</td>\n",
       "    </tr>\n",
       "    <tr>\n",
       "      <th>4</th>\n",
       "      <td>BMW X1 sDrive20d</td>\n",
       "      <td>2012</td>\n",
       "      <td>Diesel</td>\n",
       "      <td>61,000 km</td>\n",
       "      <td>Mumbai</td>\n",
       "      <td>₹ 12.5 Lakh</td>\n",
       "    </tr>\n",
       "  </tbody>\n",
       "</table>\n",
       "</div>"
      ],
      "text/plain": [
       "                           Name  Year    Fuel Driven(km)    City         Price\n",
       "0     Honda Amaze 1.2 VX i-VTEC  2017  Petrol  98,055 km    Pune    ₹ 5.7 Lakh\n",
       "1        Nissan Micra Active XV  2016  Petrol  45,227 km  Bhopal   ₹ 3.85 Lakh\n",
       "2  Renault Kwid RXT [2015-2019]  2017  Petrol  48,000 km   Noida   ₹ 2.75 Lakh\n",
       "3                 Honda City VX  2021  Petrol   1,500 km  Mumbai  ₹ 13.65 Lakh\n",
       "4              BMW X1 sDrive20d  2012  Diesel  61,000 km  Mumbai   ₹ 12.5 Lakh"
      ]
     },
     "execution_count": 182,
     "metadata": {},
     "output_type": "execute_result"
    }
   ],
   "source": [
    "car = pd.DataFrame({'Name':name,'Year':year,'Fuel':fuel,'Driven(km)':km,'City':city,'Price':price})\n",
    "car.head()"
   ]
  },
  {
   "cell_type": "code",
   "execution_count": 183,
   "id": "0c88a7b7",
   "metadata": {},
   "outputs": [],
   "source": [
    "car.to_csv('car_predict.csv')"
   ]
  }
 ],
 "metadata": {
  "kernelspec": {
   "display_name": "Python 3 (ipykernel)",
   "language": "python",
   "name": "python3"
  },
  "language_info": {
   "codemirror_mode": {
    "name": "ipython",
    "version": 3
   },
   "file_extension": ".py",
   "mimetype": "text/x-python",
   "name": "python",
   "nbconvert_exporter": "python",
   "pygments_lexer": "ipython3",
   "version": "3.9.7"
  }
 },
 "nbformat": 4,
 "nbformat_minor": 5
}

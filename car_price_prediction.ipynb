{
 "cells": [
  {
   "cell_type": "code",
   "execution_count": 238,
   "id": "2e2d831c",
   "metadata": {},
   "outputs": [],
   "source": [
    "import pandas as pd\n",
    "import numpy as np\n",
    "import seaborn as sns\n",
    "import matplotlib.pyplot as plt\n",
    "%matplotlib inline\n",
    "\n",
    "from sklearn.preprocessing import LabelEncoder\n",
    "from sklearn.preprocessing import StandardScaler\n",
    "from sklearn.model_selection import train_test_split,GridSearchCV\n",
    "from sklearn.ensemble import RandomForestRegressor,AdaBoostRegressor,GradientBoostingRegressor\n",
    "from sklearn.neighbors import KNeighborsRegressor\n",
    "from sklearn.svm import SVR\n",
    "from sklearn.metrics import *\n",
    "\n",
    "import pickle\n",
    "import warnings\n",
    "warnings.filterwarnings('ignore')"
   ]
  },
  {
   "cell_type": "code",
   "execution_count": 180,
   "id": "b5990bcb",
   "metadata": {
    "scrolled": true
   },
   "outputs": [
    {
     "data": {
      "text/html": [
       "<div>\n",
       "<style scoped>\n",
       "    .dataframe tbody tr th:only-of-type {\n",
       "        vertical-align: middle;\n",
       "    }\n",
       "\n",
       "    .dataframe tbody tr th {\n",
       "        vertical-align: top;\n",
       "    }\n",
       "\n",
       "    .dataframe thead th {\n",
       "        text-align: right;\n",
       "    }\n",
       "</style>\n",
       "<table border=\"1\" class=\"dataframe\">\n",
       "  <thead>\n",
       "    <tr style=\"text-align: right;\">\n",
       "      <th></th>\n",
       "      <th>Unnamed: 0</th>\n",
       "      <th>Brand</th>\n",
       "      <th>Name</th>\n",
       "      <th>Year</th>\n",
       "      <th>Fuel</th>\n",
       "      <th>Driven(km)</th>\n",
       "      <th>City</th>\n",
       "      <th>Price</th>\n",
       "    </tr>\n",
       "  </thead>\n",
       "  <tbody>\n",
       "    <tr>\n",
       "      <th>0</th>\n",
       "      <td>0</td>\n",
       "      <td>Honda</td>\n",
       "      <td>Honda Amaze 1.2 VX i-VTEC</td>\n",
       "      <td>2017</td>\n",
       "      <td>Petrol</td>\n",
       "      <td>98,055</td>\n",
       "      <td>Pune</td>\n",
       "      <td>5.7 Lakh</td>\n",
       "    </tr>\n",
       "    <tr>\n",
       "      <th>1</th>\n",
       "      <td>1</td>\n",
       "      <td>Nissan</td>\n",
       "      <td>Nissan Micra Active XV</td>\n",
       "      <td>2016</td>\n",
       "      <td>Petrol</td>\n",
       "      <td>45,227</td>\n",
       "      <td>Bhopal</td>\n",
       "      <td>3.85 Lakh</td>\n",
       "    </tr>\n",
       "    <tr>\n",
       "      <th>2</th>\n",
       "      <td>2</td>\n",
       "      <td>Renault</td>\n",
       "      <td>Renault Kwid RXT [-]</td>\n",
       "      <td>2017</td>\n",
       "      <td>Petrol</td>\n",
       "      <td>48,000</td>\n",
       "      <td>Noida</td>\n",
       "      <td>2.75 Lakh</td>\n",
       "    </tr>\n",
       "    <tr>\n",
       "      <th>3</th>\n",
       "      <td>3</td>\n",
       "      <td>Honda</td>\n",
       "      <td>Honda City VX</td>\n",
       "      <td>2021</td>\n",
       "      <td>Petrol</td>\n",
       "      <td>1,500</td>\n",
       "      <td>Mumbai</td>\n",
       "      <td>13.65 Lakh</td>\n",
       "    </tr>\n",
       "    <tr>\n",
       "      <th>4</th>\n",
       "      <td>4</td>\n",
       "      <td>BMW</td>\n",
       "      <td>BMW X1 sDrive20d</td>\n",
       "      <td>2012</td>\n",
       "      <td>Diesel</td>\n",
       "      <td>61,000</td>\n",
       "      <td>Mumbai</td>\n",
       "      <td>12.5 Lakh</td>\n",
       "    </tr>\n",
       "    <tr>\n",
       "      <th>...</th>\n",
       "      <td>...</td>\n",
       "      <td>...</td>\n",
       "      <td>...</td>\n",
       "      <td>...</td>\n",
       "      <td>...</td>\n",
       "      <td>...</td>\n",
       "      <td>...</td>\n",
       "      <td>...</td>\n",
       "    </tr>\n",
       "    <tr>\n",
       "      <th>3937</th>\n",
       "      <td>3937</td>\n",
       "      <td>HONDA</td>\n",
       "      <td>HONDA CITY V PETROL [-]</td>\n",
       "      <td>2017</td>\n",
       "      <td>Petrol</td>\n",
       "      <td>58,424</td>\n",
       "      <td>Indore</td>\n",
       "      <td>8,99,000</td>\n",
       "    </tr>\n",
       "    <tr>\n",
       "      <th>3938</th>\n",
       "      <td>3938</td>\n",
       "      <td>MG</td>\n",
       "      <td>MG HECTOR SHARP 1.5 DCT PETROL [-]</td>\n",
       "      <td>2021</td>\n",
       "      <td>Petrol</td>\n",
       "      <td>9,529</td>\n",
       "      <td>Indore</td>\n",
       "      <td>20,99,000</td>\n",
       "    </tr>\n",
       "    <tr>\n",
       "      <th>3939</th>\n",
       "      <td>3939</td>\n",
       "      <td>TOYOTA</td>\n",
       "      <td>TOYOTA URBAN CRUISER HIGH GRADE MT</td>\n",
       "      <td>2021</td>\n",
       "      <td>Petrol</td>\n",
       "      <td>11,037</td>\n",
       "      <td>Indore</td>\n",
       "      <td>9,00,000</td>\n",
       "    </tr>\n",
       "    <tr>\n",
       "      <th>3940</th>\n",
       "      <td>3940</td>\n",
       "      <td>MARUTI</td>\n",
       "      <td>MARUTI SUZUKI VITARA BREZZA VDI</td>\n",
       "      <td>2016</td>\n",
       "      <td>Petrol</td>\n",
       "      <td>41,508</td>\n",
       "      <td>Bhopal</td>\n",
       "      <td>6,70,000</td>\n",
       "    </tr>\n",
       "    <tr>\n",
       "      <th>3941</th>\n",
       "      <td>3941</td>\n",
       "      <td>NISSAN</td>\n",
       "      <td>NISSAN MICRA XL CVT [-]</td>\n",
       "      <td>2017</td>\n",
       "      <td>Petrol</td>\n",
       "      <td>35,416</td>\n",
       "      <td>Indore</td>\n",
       "      <td>5,45,000</td>\n",
       "    </tr>\n",
       "  </tbody>\n",
       "</table>\n",
       "<p>3942 rows × 8 columns</p>\n",
       "</div>"
      ],
      "text/plain": [
       "      Unnamed: 0    Brand                                Name  Year    Fuel  \\\n",
       "0              0    Honda           Honda Amaze 1.2 VX i-VTEC  2017  Petrol   \n",
       "1              1   Nissan              Nissan Micra Active XV  2016  Petrol   \n",
       "2              2  Renault                Renault Kwid RXT [-]  2017  Petrol   \n",
       "3              3    Honda                       Honda City VX  2021  Petrol   \n",
       "4              4      BMW                    BMW X1 sDrive20d  2012  Diesel   \n",
       "...          ...      ...                                 ...   ...     ...   \n",
       "3937        3937    HONDA             HONDA CITY V PETROL [-]  2017  Petrol   \n",
       "3938        3938       MG  MG HECTOR SHARP 1.5 DCT PETROL [-]  2021  Petrol   \n",
       "3939        3939   TOYOTA  TOYOTA URBAN CRUISER HIGH GRADE MT  2021  Petrol   \n",
       "3940        3940   MARUTI     MARUTI SUZUKI VITARA BREZZA VDI  2016  Petrol   \n",
       "3941        3941   NISSAN             NISSAN MICRA XL CVT [-]  2017  Petrol   \n",
       "\n",
       "     Driven(km)    City       Price  \n",
       "0        98,055    Pune    5.7 Lakh  \n",
       "1        45,227  Bhopal   3.85 Lakh  \n",
       "2        48,000   Noida   2.75 Lakh  \n",
       "3         1,500  Mumbai  13.65 Lakh  \n",
       "4        61,000  Mumbai   12.5 Lakh  \n",
       "...         ...     ...         ...  \n",
       "3937     58,424  Indore    8,99,000  \n",
       "3938      9,529  Indore   20,99,000  \n",
       "3939     11,037  Indore    9,00,000  \n",
       "3940     41,508  Bhopal    6,70,000  \n",
       "3941     35,416  Indore    5,45,000  \n",
       "\n",
       "[3942 rows x 8 columns]"
      ]
     },
     "execution_count": 180,
     "metadata": {},
     "output_type": "execute_result"
    }
   ],
   "source": [
    "df = pd.read_csv('car_predict.csv')\n",
    "df"
   ]
  },
  {
   "cell_type": "markdown",
   "id": "e1c34b48",
   "metadata": {},
   "source": [
    "## EDA"
   ]
  },
  {
   "cell_type": "code",
   "execution_count": 181,
   "id": "da22a030",
   "metadata": {
    "scrolled": true
   },
   "outputs": [
    {
     "data": {
      "text/html": [
       "<div>\n",
       "<style scoped>\n",
       "    .dataframe tbody tr th:only-of-type {\n",
       "        vertical-align: middle;\n",
       "    }\n",
       "\n",
       "    .dataframe tbody tr th {\n",
       "        vertical-align: top;\n",
       "    }\n",
       "\n",
       "    .dataframe thead th {\n",
       "        text-align: right;\n",
       "    }\n",
       "</style>\n",
       "<table border=\"1\" class=\"dataframe\">\n",
       "  <thead>\n",
       "    <tr style=\"text-align: right;\">\n",
       "      <th></th>\n",
       "      <th>Unnamed: 0</th>\n",
       "      <th>Year</th>\n",
       "    </tr>\n",
       "  </thead>\n",
       "  <tbody>\n",
       "    <tr>\n",
       "      <th>count</th>\n",
       "      <td>3942.000000</td>\n",
       "      <td>3942.000000</td>\n",
       "    </tr>\n",
       "    <tr>\n",
       "      <th>mean</th>\n",
       "      <td>1970.500000</td>\n",
       "      <td>2015.840690</td>\n",
       "    </tr>\n",
       "    <tr>\n",
       "      <th>std</th>\n",
       "      <td>1138.101709</td>\n",
       "      <td>3.341433</td>\n",
       "    </tr>\n",
       "    <tr>\n",
       "      <th>min</th>\n",
       "      <td>0.000000</td>\n",
       "      <td>1996.000000</td>\n",
       "    </tr>\n",
       "    <tr>\n",
       "      <th>25%</th>\n",
       "      <td>985.250000</td>\n",
       "      <td>2014.000000</td>\n",
       "    </tr>\n",
       "    <tr>\n",
       "      <th>50%</th>\n",
       "      <td>1970.500000</td>\n",
       "      <td>2016.000000</td>\n",
       "    </tr>\n",
       "    <tr>\n",
       "      <th>75%</th>\n",
       "      <td>2955.750000</td>\n",
       "      <td>2018.000000</td>\n",
       "    </tr>\n",
       "    <tr>\n",
       "      <th>max</th>\n",
       "      <td>3941.000000</td>\n",
       "      <td>2022.000000</td>\n",
       "    </tr>\n",
       "  </tbody>\n",
       "</table>\n",
       "</div>"
      ],
      "text/plain": [
       "        Unnamed: 0         Year\n",
       "count  3942.000000  3942.000000\n",
       "mean   1970.500000  2015.840690\n",
       "std    1138.101709     3.341433\n",
       "min       0.000000  1996.000000\n",
       "25%     985.250000  2014.000000\n",
       "50%    1970.500000  2016.000000\n",
       "75%    2955.750000  2018.000000\n",
       "max    3941.000000  2022.000000"
      ]
     },
     "execution_count": 181,
     "metadata": {},
     "output_type": "execute_result"
    }
   ],
   "source": [
    "df.describe()"
   ]
  },
  {
   "cell_type": "code",
   "execution_count": 182,
   "id": "e51f8366",
   "metadata": {
    "scrolled": true
   },
   "outputs": [
    {
     "data": {
      "text/plain": [
       "Unnamed: 0    0\n",
       "Brand         0\n",
       "Name          0\n",
       "Year          0\n",
       "Fuel          0\n",
       "Driven(km)    0\n",
       "City          0\n",
       "Price         0\n",
       "dtype: int64"
      ]
     },
     "execution_count": 182,
     "metadata": {},
     "output_type": "execute_result"
    }
   ],
   "source": [
    "df.isna().sum()"
   ]
  },
  {
   "cell_type": "code",
   "execution_count": 183,
   "id": "cf962079",
   "metadata": {},
   "outputs": [
    {
     "name": "stdout",
     "output_type": "stream",
     "text": [
      "<class 'pandas.core.frame.DataFrame'>\n",
      "RangeIndex: 3942 entries, 0 to 3941\n",
      "Data columns (total 8 columns):\n",
      " #   Column      Non-Null Count  Dtype \n",
      "---  ------      --------------  ----- \n",
      " 0   Unnamed: 0  3942 non-null   int64 \n",
      " 1   Brand       3942 non-null   object\n",
      " 2   Name        3942 non-null   object\n",
      " 3   Year        3942 non-null   int64 \n",
      " 4   Fuel        3942 non-null   object\n",
      " 5   Driven(km)  3942 non-null   object\n",
      " 6   City        3942 non-null   object\n",
      " 7   Price       3942 non-null   object\n",
      "dtypes: int64(2), object(6)\n",
      "memory usage: 246.5+ KB\n"
     ]
    }
   ],
   "source": [
    "df.info()"
   ]
  },
  {
   "cell_type": "markdown",
   "id": "4be48ae8",
   "metadata": {},
   "source": [
    "**- Data Cleaning**"
   ]
  },
  {
   "cell_type": "code",
   "execution_count": 184,
   "id": "a63ba848",
   "metadata": {},
   "outputs": [],
   "source": [
    "def convert(x):\n",
    "    \n",
    "    if type(x) == float or type(x) == int:\n",
    "        return x\n",
    "    \n",
    "    if 'Lakh' in x:\n",
    "        if len(x) > 1:\n",
    "            return float(x.replace('Lakh', '')) * 100000\n",
    "        return 100000\n",
    "    \n",
    "    if 'Cr' in x:\n",
    "        if len(x) > 1:\n",
    "            return float(x.replace('Cr', '')) * 10000000\n",
    "        return 10000000\n",
    "    \n",
    "    if ',' in x:\n",
    "        return x.replace(',','')\n",
    "    \n",
    "    else:\n",
    "        return x"
   ]
  },
  {
   "cell_type": "code",
   "execution_count": 186,
   "id": "d9db8960",
   "metadata": {},
   "outputs": [],
   "source": [
    "price,drive = [],[]"
   ]
  },
  {
   "cell_type": "code",
   "execution_count": 187,
   "id": "f969ff6a",
   "metadata": {},
   "outputs": [],
   "source": [
    "for i in df['Price']:\n",
    "    price.append(convert(i))"
   ]
  },
  {
   "cell_type": "code",
   "execution_count": 188,
   "id": "80a602bb",
   "metadata": {},
   "outputs": [],
   "source": [
    "for i in df['Driven(km)']:\n",
    "    drive.append(convert(i))"
   ]
  },
  {
   "cell_type": "code",
   "execution_count": 189,
   "id": "4a438361",
   "metadata": {},
   "outputs": [],
   "source": [
    "df['Driven(km)'] = drive\n",
    "df['Price'] = price"
   ]
  },
  {
   "cell_type": "code",
   "execution_count": 190,
   "id": "0fbdf784",
   "metadata": {},
   "outputs": [],
   "source": [
    "df['Price'] = df['Price'].astype(int)\n",
    "df['Driven(km)'] = df['Driven(km)'].astype(int)"
   ]
  },
  {
   "cell_type": "code",
   "execution_count": 191,
   "id": "931f67c0",
   "metadata": {},
   "outputs": [],
   "source": [
    "new = []\n",
    "for i in df['Name']:\n",
    "    new.append(i.replace('[-]',' '))"
   ]
  },
  {
   "cell_type": "code",
   "execution_count": 192,
   "id": "22dfd842",
   "metadata": {},
   "outputs": [],
   "source": [
    "df['Name'] = new"
   ]
  },
  {
   "cell_type": "code",
   "execution_count": 193,
   "id": "cfe49949",
   "metadata": {},
   "outputs": [],
   "source": [
    "df.drop('Unnamed: 0',axis = 1,inplace = True)"
   ]
  },
  {
   "cell_type": "code",
   "execution_count": 194,
   "id": "8df21337",
   "metadata": {},
   "outputs": [
    {
     "data": {
      "text/html": [
       "<div>\n",
       "<style scoped>\n",
       "    .dataframe tbody tr th:only-of-type {\n",
       "        vertical-align: middle;\n",
       "    }\n",
       "\n",
       "    .dataframe tbody tr th {\n",
       "        vertical-align: top;\n",
       "    }\n",
       "\n",
       "    .dataframe thead th {\n",
       "        text-align: right;\n",
       "    }\n",
       "</style>\n",
       "<table border=\"1\" class=\"dataframe\">\n",
       "  <thead>\n",
       "    <tr style=\"text-align: right;\">\n",
       "      <th></th>\n",
       "      <th>Brand</th>\n",
       "      <th>Name</th>\n",
       "      <th>Year</th>\n",
       "      <th>Fuel</th>\n",
       "      <th>Driven(km)</th>\n",
       "      <th>City</th>\n",
       "      <th>Price</th>\n",
       "    </tr>\n",
       "  </thead>\n",
       "  <tbody>\n",
       "    <tr>\n",
       "      <th>0</th>\n",
       "      <td>Honda</td>\n",
       "      <td>Honda Amaze 1.2 VX i-VTEC</td>\n",
       "      <td>2017</td>\n",
       "      <td>Petrol</td>\n",
       "      <td>98055</td>\n",
       "      <td>Pune</td>\n",
       "      <td>570000</td>\n",
       "    </tr>\n",
       "    <tr>\n",
       "      <th>1</th>\n",
       "      <td>Nissan</td>\n",
       "      <td>Nissan Micra Active XV</td>\n",
       "      <td>2016</td>\n",
       "      <td>Petrol</td>\n",
       "      <td>45227</td>\n",
       "      <td>Bhopal</td>\n",
       "      <td>385000</td>\n",
       "    </tr>\n",
       "    <tr>\n",
       "      <th>2</th>\n",
       "      <td>Renault</td>\n",
       "      <td>Renault Kwid RXT</td>\n",
       "      <td>2017</td>\n",
       "      <td>Petrol</td>\n",
       "      <td>48000</td>\n",
       "      <td>Noida</td>\n",
       "      <td>275000</td>\n",
       "    </tr>\n",
       "    <tr>\n",
       "      <th>3</th>\n",
       "      <td>Honda</td>\n",
       "      <td>Honda City VX</td>\n",
       "      <td>2021</td>\n",
       "      <td>Petrol</td>\n",
       "      <td>1500</td>\n",
       "      <td>Mumbai</td>\n",
       "      <td>1365000</td>\n",
       "    </tr>\n",
       "    <tr>\n",
       "      <th>4</th>\n",
       "      <td>BMW</td>\n",
       "      <td>BMW X1 sDrive20d</td>\n",
       "      <td>2012</td>\n",
       "      <td>Diesel</td>\n",
       "      <td>61000</td>\n",
       "      <td>Mumbai</td>\n",
       "      <td>1250000</td>\n",
       "    </tr>\n",
       "    <tr>\n",
       "      <th>...</th>\n",
       "      <td>...</td>\n",
       "      <td>...</td>\n",
       "      <td>...</td>\n",
       "      <td>...</td>\n",
       "      <td>...</td>\n",
       "      <td>...</td>\n",
       "      <td>...</td>\n",
       "    </tr>\n",
       "    <tr>\n",
       "      <th>3937</th>\n",
       "      <td>HONDA</td>\n",
       "      <td>HONDA CITY V PETROL</td>\n",
       "      <td>2017</td>\n",
       "      <td>Petrol</td>\n",
       "      <td>58424</td>\n",
       "      <td>Indore</td>\n",
       "      <td>899000</td>\n",
       "    </tr>\n",
       "    <tr>\n",
       "      <th>3938</th>\n",
       "      <td>MG</td>\n",
       "      <td>MG HECTOR SHARP 1.5 DCT PETROL</td>\n",
       "      <td>2021</td>\n",
       "      <td>Petrol</td>\n",
       "      <td>9529</td>\n",
       "      <td>Indore</td>\n",
       "      <td>2099000</td>\n",
       "    </tr>\n",
       "    <tr>\n",
       "      <th>3939</th>\n",
       "      <td>TOYOTA</td>\n",
       "      <td>TOYOTA URBAN CRUISER HIGH GRADE MT</td>\n",
       "      <td>2021</td>\n",
       "      <td>Petrol</td>\n",
       "      <td>11037</td>\n",
       "      <td>Indore</td>\n",
       "      <td>900000</td>\n",
       "    </tr>\n",
       "    <tr>\n",
       "      <th>3940</th>\n",
       "      <td>MARUTI</td>\n",
       "      <td>MARUTI SUZUKI VITARA BREZZA VDI</td>\n",
       "      <td>2016</td>\n",
       "      <td>Petrol</td>\n",
       "      <td>41508</td>\n",
       "      <td>Bhopal</td>\n",
       "      <td>670000</td>\n",
       "    </tr>\n",
       "    <tr>\n",
       "      <th>3941</th>\n",
       "      <td>NISSAN</td>\n",
       "      <td>NISSAN MICRA XL CVT</td>\n",
       "      <td>2017</td>\n",
       "      <td>Petrol</td>\n",
       "      <td>35416</td>\n",
       "      <td>Indore</td>\n",
       "      <td>545000</td>\n",
       "    </tr>\n",
       "  </tbody>\n",
       "</table>\n",
       "<p>3942 rows × 7 columns</p>\n",
       "</div>"
      ],
      "text/plain": [
       "        Brand                                Name  Year    Fuel  Driven(km)  \\\n",
       "0       Honda           Honda Amaze 1.2 VX i-VTEC  2017  Petrol       98055   \n",
       "1      Nissan              Nissan Micra Active XV  2016  Petrol       45227   \n",
       "2     Renault                  Renault Kwid RXT    2017  Petrol       48000   \n",
       "3       Honda                       Honda City VX  2021  Petrol        1500   \n",
       "4         BMW                    BMW X1 sDrive20d  2012  Diesel       61000   \n",
       "...       ...                                 ...   ...     ...         ...   \n",
       "3937    HONDA               HONDA CITY V PETROL    2017  Petrol       58424   \n",
       "3938       MG    MG HECTOR SHARP 1.5 DCT PETROL    2021  Petrol        9529   \n",
       "3939   TOYOTA  TOYOTA URBAN CRUISER HIGH GRADE MT  2021  Petrol       11037   \n",
       "3940   MARUTI     MARUTI SUZUKI VITARA BREZZA VDI  2016  Petrol       41508   \n",
       "3941   NISSAN               NISSAN MICRA XL CVT    2017  Petrol       35416   \n",
       "\n",
       "        City    Price  \n",
       "0       Pune   570000  \n",
       "1     Bhopal   385000  \n",
       "2      Noida   275000  \n",
       "3     Mumbai  1365000  \n",
       "4     Mumbai  1250000  \n",
       "...      ...      ...  \n",
       "3937  Indore   899000  \n",
       "3938  Indore  2099000  \n",
       "3939  Indore   900000  \n",
       "3940  Bhopal   670000  \n",
       "3941  Indore   545000  \n",
       "\n",
       "[3942 rows x 7 columns]"
      ]
     },
     "execution_count": 194,
     "metadata": {},
     "output_type": "execute_result"
    }
   ],
   "source": [
    "df"
   ]
  },
  {
   "cell_type": "markdown",
   "id": "729664df",
   "metadata": {},
   "source": [
    "## Visualization"
   ]
  },
  {
   "cell_type": "code",
   "execution_count": 195,
   "id": "cf8b24b0",
   "metadata": {},
   "outputs": [
    {
     "data": {
      "text/plain": [
       "<AxesSubplot:xlabel='count', ylabel='Brand'>"
      ]
     },
     "execution_count": 195,
     "metadata": {},
     "output_type": "execute_result"
    },
    {
     "data": {
      "image/png": "[encoded data removed]",
      "text/plain": [
       "<Figure size 720x720 with 1 Axes>"
      ]
     },
     "metadata": {
      "needs_background": "light"
     },
     "output_type": "display_data"
    }
   ],
   "source": [
    "plt.figure(figsize=(10,10))\n",
    "sns.countplot(y = df['Brand'])"
   ]
  },
  {
   "cell_type": "code",
   "execution_count": 196,
   "id": "f0b0b89b",
   "metadata": {},
   "outputs": [
    {
     "data": {
      "text/plain": [
       "<AxesSubplot:xlabel='count', ylabel='Fuel'>"
      ]
     },
     "execution_count": 196,
     "metadata": {},
     "output_type": "execute_result"
    },
    {
     "data": {
      "image/png": "[encoded data removed]",
      "text/plain": [
       "<Figure size 432x288 with 1 Axes>"
      ]
     },
     "metadata": {
      "needs_background": "light"
     },
     "output_type": "display_data"
    }
   ],
   "source": [
    "sns.countplot(y = df['Fuel'])"
   ]
  },
  {
   "cell_type": "code",
   "execution_count": 197,
   "id": "57737cf6",
   "metadata": {},
   "outputs": [
    {
     "data": {
      "text/plain": [
       "<AxesSubplot:xlabel='count', ylabel='City'>"
      ]
     },
     "execution_count": 197,
     "metadata": {},
     "output_type": "execute_result"
    },
    {
     "data": {
      "image/png": "[encoded data removed]",
      "text/plain": [
       "<Figure size 576x576 with 1 Axes>"
      ]
     },
     "metadata": {
      "needs_background": "light"
     },
     "output_type": "display_data"
    }
   ],
   "source": [
    "plt.figure(figsize=(8,8))\n",
    "sns.countplot(y = df['City'])"
   ]
  },
  {
   "cell_type": "code",
   "execution_count": 198,
   "id": "fb4f1def",
   "metadata": {},
   "outputs": [
    {
     "data": {
      "text/plain": [
       "<AxesSubplot:xlabel='Price', ylabel='Brand'>"
      ]
     },
     "execution_count": 198,
     "metadata": {},
     "output_type": "execute_result"
    },
    {
     "data": {
      "image/png": "[encoded data removed]",
      "text/plain": [
       "<Figure size 720x720 with 1 Axes>"
      ]
     },
     "metadata": {
      "needs_background": "light"
     },
     "output_type": "display_data"
    }
   ],
   "source": [
    "plt.figure(figsize=(10,10))\n",
    "sns.scatterplot(x = 'Price',y = 'Brand',data = df)"
   ]
  },
  {
   "cell_type": "code",
   "execution_count": 199,
   "id": "42f30ed8",
   "metadata": {},
   "outputs": [
    {
     "data": {
      "text/plain": [
       "<AxesSubplot:xlabel='Price', ylabel='Driven(km)'>"
      ]
     },
     "execution_count": 199,
     "metadata": {},
     "output_type": "execute_result"
    },
    {
     "data": {
      "image/png": "[encoded data removed]",
      "text/plain": [
       "<Figure size 432x288 with 1 Axes>"
      ]
     },
     "metadata": {
      "needs_background": "light"
     },
     "output_type": "display_data"
    }
   ],
   "source": [
    "sns.scatterplot(y = 'Driven(km)',x = 'Price',data = df)"
   ]
  },
  {
   "cell_type": "code",
   "execution_count": 200,
   "id": "ea758a3c",
   "metadata": {},
   "outputs": [
    {
     "data": {
      "text/plain": [
       "<AxesSubplot:xlabel='Price', ylabel='Fuel'>"
      ]
     },
     "execution_count": 200,
     "metadata": {},
     "output_type": "execute_result"
    },
    {
     "data": {
      "image/png": "[encoded data removed]",
      "text/plain": [
       "<Figure size 432x288 with 1 Axes>"
      ]
     },
     "metadata": {
      "needs_background": "light"
     },
     "output_type": "display_data"
    }
   ],
   "source": [
    "sns.scatterplot(x = 'Price',y = 'Fuel',data = df)"
   ]
  },
  {
   "cell_type": "code",
   "execution_count": 201,
   "id": "d8d7a7e5",
   "metadata": {},
   "outputs": [
    {
     "data": {
      "text/plain": [
       "<AxesSubplot:xlabel='Price', ylabel='City'>"
      ]
     },
     "execution_count": 201,
     "metadata": {},
     "output_type": "execute_result"
    },
    {
     "data": {
      "image/png": "[encoded data removed]",
      "text/plain": [
       "<Figure size 576x576 with 1 Axes>"
      ]
     },
     "metadata": {
      "needs_background": "light"
     },
     "output_type": "display_data"
    }
   ],
   "source": [
    "plt.figure(figsize=(8,8))\n",
    "sns.scatterplot(x = 'Price',y = 'City',data = df)"
   ]
  },
  {
   "cell_type": "markdown",
   "id": "d8d538fb",
   "metadata": {},
   "source": [
    "## Encoding"
   ]
  },
  {
   "cell_type": "code",
   "execution_count": 203,
   "id": "329bdafd",
   "metadata": {},
   "outputs": [],
   "source": [
    "lb = LabelEncoder()"
   ]
  },
  {
   "cell_type": "code",
   "execution_count": 204,
   "id": "b8116f8c",
   "metadata": {},
   "outputs": [],
   "source": [
    "df['Name'] = lb.fit_transform(df['Name'])\n",
    "df['City'] = lb.fit_transform(df['City'])\n",
    "df['Brand'] = lb.fit_transform(df['Brand'])\n",
    "df['Fuel'] = lb.fit_transform(df['Fuel'])"
   ]
  },
  {
   "cell_type": "code",
   "execution_count": 207,
   "id": "6b99649c",
   "metadata": {},
   "outputs": [
    {
     "data": {
      "text/html": [
       "<div>\n",
       "<style scoped>\n",
       "    .dataframe tbody tr th:only-of-type {\n",
       "        vertical-align: middle;\n",
       "    }\n",
       "\n",
       "    .dataframe tbody tr th {\n",
       "        vertical-align: top;\n",
       "    }\n",
       "\n",
       "    .dataframe thead th {\n",
       "        text-align: right;\n",
       "    }\n",
       "</style>\n",
       "<table border=\"1\" class=\"dataframe\">\n",
       "  <thead>\n",
       "    <tr style=\"text-align: right;\">\n",
       "      <th></th>\n",
       "      <th>Brand</th>\n",
       "      <th>Name</th>\n",
       "      <th>Year</th>\n",
       "      <th>Fuel</th>\n",
       "      <th>Driven(km)</th>\n",
       "      <th>City</th>\n",
       "      <th>Price</th>\n",
       "    </tr>\n",
       "  </thead>\n",
       "  <tbody>\n",
       "    <tr>\n",
       "      <th>0</th>\n",
       "      <td>11</td>\n",
       "      <td>96</td>\n",
       "      <td>2017</td>\n",
       "      <td>4</td>\n",
       "      <td>98055</td>\n",
       "      <td>22</td>\n",
       "      <td>570000</td>\n",
       "    </tr>\n",
       "    <tr>\n",
       "      <th>1</th>\n",
       "      <td>30</td>\n",
       "      <td>403</td>\n",
       "      <td>2016</td>\n",
       "      <td>4</td>\n",
       "      <td>45227</td>\n",
       "      <td>5</td>\n",
       "      <td>385000</td>\n",
       "    </tr>\n",
       "    <tr>\n",
       "      <th>2</th>\n",
       "      <td>34</td>\n",
       "      <td>424</td>\n",
       "      <td>2017</td>\n",
       "      <td>4</td>\n",
       "      <td>48000</td>\n",
       "      <td>20</td>\n",
       "      <td>275000</td>\n",
       "    </tr>\n",
       "    <tr>\n",
       "      <th>3</th>\n",
       "      <td>11</td>\n",
       "      <td>108</td>\n",
       "      <td>2021</td>\n",
       "      <td>4</td>\n",
       "      <td>1500</td>\n",
       "      <td>16</td>\n",
       "      <td>1365000</td>\n",
       "    </tr>\n",
       "    <tr>\n",
       "      <th>4</th>\n",
       "      <td>3</td>\n",
       "      <td>22</td>\n",
       "      <td>2012</td>\n",
       "      <td>1</td>\n",
       "      <td>61000</td>\n",
       "      <td>16</td>\n",
       "      <td>1250000</td>\n",
       "    </tr>\n",
       "    <tr>\n",
       "      <th>...</th>\n",
       "      <td>...</td>\n",
       "      <td>...</td>\n",
       "      <td>...</td>\n",
       "      <td>...</td>\n",
       "      <td>...</td>\n",
       "      <td>...</td>\n",
       "      <td>...</td>\n",
       "    </tr>\n",
       "    <tr>\n",
       "      <th>3937</th>\n",
       "      <td>9</td>\n",
       "      <td>60</td>\n",
       "      <td>2017</td>\n",
       "      <td>4</td>\n",
       "      <td>58424</td>\n",
       "      <td>11</td>\n",
       "      <td>899000</td>\n",
       "    </tr>\n",
       "    <tr>\n",
       "      <th>3938</th>\n",
       "      <td>22</td>\n",
       "      <td>254</td>\n",
       "      <td>2021</td>\n",
       "      <td>4</td>\n",
       "      <td>9529</td>\n",
       "      <td>11</td>\n",
       "      <td>2099000</td>\n",
       "    </tr>\n",
       "    <tr>\n",
       "      <th>3939</th>\n",
       "      <td>38</td>\n",
       "      <td>441</td>\n",
       "      <td>2021</td>\n",
       "      <td>4</td>\n",
       "      <td>11037</td>\n",
       "      <td>11</td>\n",
       "      <td>900000</td>\n",
       "    </tr>\n",
       "    <tr>\n",
       "      <th>3940</th>\n",
       "      <td>20</td>\n",
       "      <td>240</td>\n",
       "      <td>2016</td>\n",
       "      <td>4</td>\n",
       "      <td>41508</td>\n",
       "      <td>5</td>\n",
       "      <td>670000</td>\n",
       "    </tr>\n",
       "    <tr>\n",
       "      <th>3941</th>\n",
       "      <td>29</td>\n",
       "      <td>398</td>\n",
       "      <td>2017</td>\n",
       "      <td>4</td>\n",
       "      <td>35416</td>\n",
       "      <td>11</td>\n",
       "      <td>545000</td>\n",
       "    </tr>\n",
       "  </tbody>\n",
       "</table>\n",
       "<p>3942 rows × 7 columns</p>\n",
       "</div>"
      ],
      "text/plain": [
       "      Brand  Name  Year  Fuel  Driven(km)  City    Price\n",
       "0        11    96  2017     4       98055    22   570000\n",
       "1        30   403  2016     4       45227     5   385000\n",
       "2        34   424  2017     4       48000    20   275000\n",
       "3        11   108  2021     4        1500    16  1365000\n",
       "4         3    22  2012     1       61000    16  1250000\n",
       "...     ...   ...   ...   ...         ...   ...      ...\n",
       "3937      9    60  2017     4       58424    11   899000\n",
       "3938     22   254  2021     4        9529    11  2099000\n",
       "3939     38   441  2021     4       11037    11   900000\n",
       "3940     20   240  2016     4       41508     5   670000\n",
       "3941     29   398  2017     4       35416    11   545000\n",
       "\n",
       "[3942 rows x 7 columns]"
      ]
     },
     "execution_count": 207,
     "metadata": {},
     "output_type": "execute_result"
    }
   ],
   "source": [
    "df"
   ]
  },
  {
   "cell_type": "markdown",
   "id": "ee104466",
   "metadata": {},
   "source": [
    "## Model Building."
   ]
  },
  {
   "cell_type": "markdown",
   "id": "2ca2d4e9",
   "metadata": {},
   "source": [
    "**- Seperating features and label.**"
   ]
  },
  {
   "cell_type": "code",
   "execution_count": 208,
   "id": "9f5d31aa",
   "metadata": {},
   "outputs": [],
   "source": [
    "x = df.drop('Price',axis =1)\n",
    "y = df.Price"
   ]
  },
  {
   "cell_type": "markdown",
   "id": "b620223d",
   "metadata": {},
   "source": [
    "**- Applying StandardScaler.**"
   ]
  },
  {
   "cell_type": "code",
   "execution_count": 210,
   "id": "21823ef4",
   "metadata": {},
   "outputs": [],
   "source": [
    "scaler = StandardScaler()"
   ]
  },
  {
   "cell_type": "code",
   "execution_count": 214,
   "id": "123d00f1",
   "metadata": {},
   "outputs": [
    {
     "data": {
      "text/plain": [
       "array([[-0.93742728, -1.16979648,  0.34699396,  0.78711319,  0.32765067,\n",
       "         1.31624568],\n",
       "       [ 0.81461715,  1.01150952,  0.0476832 ,  0.78711319, -0.0997983 ,\n",
       "        -0.9015123 ],\n",
       "       [ 1.18346861,  1.16071938,  0.34699396,  0.78711319, -0.07736103,\n",
       "         1.05533298],\n",
       "       ...,\n",
       "       [ 1.55232007,  1.28150831,  1.544237  ,  0.78711319, -0.37644099,\n",
       "        -0.11877419],\n",
       "       [-0.1075115 , -0.14664318,  0.0476832 ,  0.78711319, -0.12988996,\n",
       "        -0.9015123 ],\n",
       "       [ 0.72240429,  0.97598336,  0.34699396,  0.78711319, -0.17918237,\n",
       "        -0.11877419]])"
      ]
     },
     "execution_count": 214,
     "metadata": {},
     "output_type": "execute_result"
    }
   ],
   "source": [
    "x_scaled = scaler.fit_transform(x)\n",
    "x_scaled"
   ]
  },
  {
   "cell_type": "markdown",
   "id": "df0c2328",
   "metadata": {},
   "source": [
    "**- Train Test Split.**"
   ]
  },
  {
   "cell_type": "code",
   "execution_count": 218,
   "id": "83ab849f",
   "metadata": {},
   "outputs": [],
   "source": [
    "x_train,x_test,y_train,y_test = train_test_split(x_scaled, y, random_state = 90, test_size = 0.25)"
   ]
  },
  {
   "cell_type": "markdown",
   "id": "cc78a53e",
   "metadata": {},
   "source": [
    "**Function for Training & Testing.**"
   ]
  },
  {
   "cell_type": "code",
   "execution_count": 219,
   "id": "e51c8e6a",
   "metadata": {},
   "outputs": [],
   "source": [
    "def score(reg, x_train, x_test, y_train, y_test, train = True):\n",
    "    if train:\n",
    "        y_pred = reg.predict(x_train)\n",
    "        print('\\n ----- Train Result ----- \\n')\n",
    "        print('R2 Score:', metrics.r2_score(y_train,y_pred))\n",
    "    \n",
    "    elif train == False:\n",
    "        pred = reg.predict(x_test)\n",
    "        print('\\n ----- Test Result ----- \\n')\n",
    "        print('R2 Score:', metrics.r2_score(y_test,pred))\n",
    "        print('Mean Absolute Error:',mean_absolute_error(y_test,pred))"
   ]
  },
  {
   "cell_type": "markdown",
   "id": "5177d038",
   "metadata": {},
   "source": [
    "**- Model Instantiating.**"
   ]
  },
  {
   "cell_type": "code",
   "execution_count": 223,
   "id": "52ca24d6",
   "metadata": {},
   "outputs": [],
   "source": [
    "rf = RandomForestRegressor()\n",
    "ada = AdaBoostRegressor()\n",
    "gb = GradientBoostingRegressor()\n",
    "svr = SVR()\n",
    "knn = KNeighborsRegressor()"
   ]
  },
  {
   "cell_type": "markdown",
   "id": "52b4638f",
   "metadata": {},
   "source": [
    "**- RandomForest Regressor.**"
   ]
  },
  {
   "cell_type": "code",
   "execution_count": 222,
   "id": "06dcfd6c",
   "metadata": {},
   "outputs": [
    {
     "name": "stdout",
     "output_type": "stream",
     "text": [
      "\n",
      " ----- Train Result ----- \n",
      "\n",
      "R2 Score: 0.9793886664446027\n",
      "\n",
      " ----- Test Result ----- \n",
      "\n",
      "R2 Score: 0.8023402936439155\n",
      "Mean Absolute Error: 228386.78317523902\n"
     ]
    }
   ],
   "source": [
    "rf.fit(x_train,y_train)\n",
    "score(rf, x_train,x_test,y_train,y_test,train = True)\n",
    "score(rf, x_train,x_test,y_train,y_test,train = False)"
   ]
  },
  {
   "cell_type": "markdown",
   "id": "588a3c3b",
   "metadata": {},
   "source": [
    "**- AdaBoost Regressor.**"
   ]
  },
  {
   "cell_type": "code",
   "execution_count": 224,
   "id": "f917fbb0",
   "metadata": {},
   "outputs": [
    {
     "name": "stdout",
     "output_type": "stream",
     "text": [
      "\n",
      " ----- Train Result ----- \n",
      "\n",
      "R2 Score: -0.5244165804043754\n",
      "\n",
      " ----- Test Result ----- \n",
      "\n",
      "R2 Score: -1.055646062073242\n",
      "Mean Absolute Error: 1552650.8041604715\n"
     ]
    }
   ],
   "source": [
    "ada.fit(x_train,y_train)\n",
    "score(ada, x_train,x_test,y_train,y_test,train = True)\n",
    "score(ada, x_train,x_test,y_train,y_test,train = False)"
   ]
  },
  {
   "cell_type": "markdown",
   "id": "d8567a96",
   "metadata": {},
   "source": [
    "**- GradientBoosting Regressor.**"
   ]
  },
  {
   "cell_type": "code",
   "execution_count": 225,
   "id": "d9afa963",
   "metadata": {},
   "outputs": [
    {
     "name": "stdout",
     "output_type": "stream",
     "text": [
      "\n",
      " ----- Train Result ----- \n",
      "\n",
      "R2 Score: 0.8653486749511684\n",
      "\n",
      " ----- Test Result ----- \n",
      "\n",
      "R2 Score: 0.760550538301414\n",
      "Mean Absolute Error: 295744.3045491251\n"
     ]
    }
   ],
   "source": [
    "gb.fit(x_train,y_train)\n",
    "score(gb, x_train,x_test,y_train,y_test,train = True)\n",
    "score(gb, x_train,x_test,y_train,y_test,train = False)"
   ]
  },
  {
   "cell_type": "markdown",
   "id": "4f8ccbb1",
   "metadata": {},
   "source": [
    "**- SupperVector Regressor.**"
   ]
  },
  {
   "cell_type": "code",
   "execution_count": 226,
   "id": "edb2c2be",
   "metadata": {},
   "outputs": [
    {
     "name": "stdout",
     "output_type": "stream",
     "text": [
      "\n",
      " ----- Train Result ----- \n",
      "\n",
      "R2 Score: -0.08581709576846541\n",
      "\n",
      " ----- Test Result ----- \n",
      "\n",
      "R2 Score: -0.09063739749513333\n",
      "Mean Absolute Error: 568163.0950604408\n"
     ]
    }
   ],
   "source": [
    "svr.fit(x_train,y_train)\n",
    "score(svr, x_train,x_test,y_train,y_test,train = True)\n",
    "score(svr, x_train,x_test,y_train,y_test,train = False)"
   ]
  },
  {
   "cell_type": "markdown",
   "id": "f1311988",
   "metadata": {},
   "source": [
    "**- KNeighbors Regressor.**"
   ]
  },
  {
   "cell_type": "code",
   "execution_count": 227,
   "id": "6e00b86f",
   "metadata": {},
   "outputs": [
    {
     "name": "stdout",
     "output_type": "stream",
     "text": [
      "\n",
      " ----- Train Result ----- \n",
      "\n",
      "R2 Score: 0.6191224987301477\n",
      "\n",
      " ----- Test Result ----- \n",
      "\n",
      "R2 Score: 0.3040107458056932\n",
      "Mean Absolute Error: 442420.1900608519\n"
     ]
    }
   ],
   "source": [
    "knn.fit(x_train,y_train)\n",
    "score(knn, x_train,x_test,y_train,y_test,train = True)\n",
    "score(knn, x_train,x_test,y_train,y_test,train = False)"
   ]
  },
  {
   "cell_type": "markdown",
   "id": "e6bf3460",
   "metadata": {},
   "source": [
    "                RandomForestRegressor, is giving the best score among all other model."
   ]
  },
  {
   "cell_type": "markdown",
   "id": "2c46b0f4",
   "metadata": {},
   "source": [
    "## Hyperparameter Tuning."
   ]
  },
  {
   "cell_type": "code",
   "execution_count": 229,
   "id": "1e2b661e",
   "metadata": {},
   "outputs": [
    {
     "data": {
      "text/plain": [
       "{'bootstrap': True,\n",
       " 'ccp_alpha': 0.0,\n",
       " 'criterion': 'squared_error',\n",
       " 'max_depth': None,\n",
       " 'max_features': 1.0,\n",
       " 'max_leaf_nodes': None,\n",
       " 'max_samples': None,\n",
       " 'min_impurity_decrease': 0.0,\n",
       " 'min_samples_leaf': 1,\n",
       " 'min_samples_split': 2,\n",
       " 'min_weight_fraction_leaf': 0.0,\n",
       " 'n_estimators': 100,\n",
       " 'n_jobs': None,\n",
       " 'oob_score': False,\n",
       " 'random_state': None,\n",
       " 'verbose': 0,\n",
       " 'warm_start': False}"
      ]
     },
     "execution_count": 229,
     "metadata": {},
     "output_type": "execute_result"
    }
   ],
   "source": [
    "rf.get_params()"
   ]
  },
  {
   "cell_type": "code",
   "execution_count": 232,
   "id": "66b878f5",
   "metadata": {},
   "outputs": [],
   "source": [
    "param = {\"n_estimators\":[20, 100, 200],\n",
    "           \"max_depth\":[None, 1, 2, 5],\n",
    "           \"max_features\":[0.5, 1, \"auto\", \"sqrt\"],\n",
    "           }"
   ]
  },
  {
   "cell_type": "code",
   "execution_count": 233,
   "id": "d387d1e4",
   "metadata": {},
   "outputs": [
    {
     "name": "stdout",
     "output_type": "stream",
     "text": [
      "Best Params =  {'max_depth': None, 'max_features': 0.5, 'n_estimators': 200}\n"
     ]
    }
   ],
   "source": [
    "grid = GridSearchCV(rf, param_grid = param)\n",
    "grid.fit(x_train,y_train)\n",
    "print('Best Params = ',grid.best_params_)"
   ]
  },
  {
   "cell_type": "code",
   "execution_count": 234,
   "id": "17f1b175",
   "metadata": {},
   "outputs": [],
   "source": [
    "params = {\"min_samples_split\":[ 2, 5, 10],\n",
    "           \"min_samples_leaf\":[1, 2, 3, 5]}"
   ]
  },
  {
   "cell_type": "code",
   "execution_count": 235,
   "id": "11bdd06a",
   "metadata": {},
   "outputs": [
    {
     "name": "stdout",
     "output_type": "stream",
     "text": [
      "Best Params =  {'min_samples_leaf': 1, 'min_samples_split': 2}\n"
     ]
    }
   ],
   "source": [
    "grid = GridSearchCV(rf, param_grid = params)\n",
    "grid.fit(x_train,y_train)\n",
    "print('Best Params = ',grid.best_params_)"
   ]
  },
  {
   "cell_type": "code",
   "execution_count": 236,
   "id": "ba534ce9",
   "metadata": {},
   "outputs": [],
   "source": [
    "rf_hyp = RandomForestRegressor(max_depth = None, max_features = 0.5, min_samples_leaf = 1, min_samples_split = 2, n_estimators = 200)"
   ]
  },
  {
   "cell_type": "code",
   "execution_count": 237,
   "id": "dd9ee53b",
   "metadata": {},
   "outputs": [
    {
     "name": "stdout",
     "output_type": "stream",
     "text": [
      "\n",
      " ----- Train Result ----- \n",
      "\n",
      "R2 Score: 0.9783061196967381\n",
      "\n",
      " ----- Test Result ----- \n",
      "\n",
      "R2 Score: 0.8283762349117869\n",
      "Mean Absolute Error: 226478.25855438437\n"
     ]
    }
   ],
   "source": [
    "rf_hyp.fit(x_train,y_train)\n",
    "score(rf_hyp, x_train,x_test,y_train,y_test,train = True)\n",
    "score(rf_hyp, x_train,x_test,y_train,y_test,train = False)"
   ]
  },
  {
   "cell_type": "markdown",
   "id": "899a73ad",
   "metadata": {},
   "source": [
    "    Post tuning score, is better than the default parameter, so saving the post tuning parameters for the model."
   ]
  },
  {
   "cell_type": "markdown",
   "id": "a0d401e4",
   "metadata": {},
   "source": [
    "## Saving the Model."
   ]
  },
  {
   "cell_type": "code",
   "execution_count": 239,
   "id": "19b239b5",
   "metadata": {},
   "outputs": [],
   "source": [
    "filename = 'car_price.pickle'\n",
    "pickle.dump(rf_hyp, open(filename, 'wb'))"
   ]
  }
 ],
 "metadata": {
  "kernelspec": {
   "display_name": "Python 3 (ipykernel)",
   "language": "python",
   "name": "python3"
  },
  "language_info": {
   "codemirror_mode": {
    "name": "ipython",
    "version": 3
   },
   "file_extension": ".py",
   "mimetype": "text/x-python",
   "name": "python",
   "nbconvert_exporter": "python",
   "pygments_lexer": "ipython3",
   "version": "3.9.7"
  }
 },
 "nbformat": 4,
 "nbformat_minor": 5
}
